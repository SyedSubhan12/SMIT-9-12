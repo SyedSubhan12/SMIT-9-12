{
 "cells": [
  {
   "cell_type": "markdown",
   "metadata": {},
   "source": [
    "# Problem :1"
   ]
  },
  {
   "cell_type": "code",
   "execution_count": 43,
   "metadata": {},
   "outputs": [
    {
     "name": "stdout",
     "output_type": "stream",
     "text": [
      "Rating for John is 30001.8\n",
      "Rating for Alice is 36001.88\n",
      "Rating for Bob is 27001.68\n",
      "Rating for Emma is 33001.84\n",
      "Rating for James is 28801.8 \n",
      "The maximum rating among the employee 36001.88 of Alice \n"
     ]
    }
   ],
   "source": [
    "employee_data = [(\"John\", 50000, 4.5 ), (\"Alice\" , 60000, 4.7), (\"Bob\", 45000, 4.2),(\"Emma\", 55000,4.6), (\"James\", 48000, 4.5)]\n",
    "sales_weight = 0.6\n",
    "satisfaction_weight = 0.4\n",
    "lsi = []\n",
    "lsmi = []\n",
    "for i in employee_data:\n",
    "    ls = (i[1] * sales_weight) +( i[2]  *satisfaction_weight)\n",
    "    lsi.append(ls)\n",
    "for j in employee_data:\n",
    "    lsm = j[0]\n",
    "    lsmi.append(lsm)\n",
    "    \n",
    "\n",
    "        \n",
    "    \n",
    "print(f\"Rating for {lsmi[0]} is {lsi[0]}\\nRating for {lsmi[1]} is {lsi[1]}\\nRating for {lsmi[2]} is {lsi[2]}\\nRating for {lsmi[3]} is {lsi[3]}\\nRating for {lsmi[4]} is {lsi[4]} \")    \n",
    "print(f\"The maximum rating among the employee {max(lsi)} of Alice \")\n",
    "\n"
   ]
  },
  {
   "cell_type": "markdown",
   "metadata": {},
   "source": [
    "# Problem 2:"
   ]
  },
  {
   "cell_type": "code",
   "execution_count": 10,
   "metadata": {},
   "outputs": [
    {
     "name": "stdout",
     "output_type": "stream",
     "text": [
      "1\n",
      "2\n",
      "3\n",
      "4\n"
     ]
    }
   ],
   "source": [
    "n = int(input())\n",
    "for i in range(1, n+1):\n",
    "    x = str(i)\n",
    "    print(x)\n"
   ]
  },
  {
   "cell_type": "markdown",
   "metadata": {},
   "source": [
    "# Problem 3:\n"
   ]
  },
  {
   "cell_type": "code",
   "execution_count": 49,
   "metadata": {},
   "outputs": [
    {
     "name": "stdout",
     "output_type": "stream",
     "text": [
      "[2, 4, 6, 8, 10]\n",
      "[1.41421356 2.         2.44948974 2.82842712 3.16227766]\n"
     ]
    }
   ],
   "source": [
    "import numpy as np\n",
    "ee = []\n",
    "for i in range(1,11):\n",
    "    if i % 2==0:\n",
    "        ee.append(i)\n",
    "print(ee)\n",
    "nv = np.sqrt(ee) \n",
    "print(nv)\n",
    "  "
   ]
  },
  {
   "cell_type": "markdown",
   "metadata": {},
   "source": [
    "# Problem 4:\n"
   ]
  },
  {
   "cell_type": "code",
   "execution_count": 54,
   "metadata": {},
   "outputs": [
    {
     "name": "stdout",
     "output_type": "stream",
     "text": [
      "apple is added to your cart. Current cart: ['apple']\n",
      "banana is added to your cart. Current cart: ['apple', 'banana']\n",
      "apple is removed from your cart. Current cart: ['banana']\n",
      "Exiting the program.\n"
     ]
    }
   ],
   "source": [
    "list_item = []   #lists\n",
    "\n",
    "while True:\n",
    "    item_as = input(\"Enter what do you want to do (add, remove, or quit): \").lower()\n",
    "    \n",
    "    if item_as == \"add\":\n",
    "        asl = input(\"Enter the item name: \")\n",
    "        list_item.append(asl)\n",
    "        print(f\"{asl} is added to your cart. Current cart: {list_item}\")\n",
    "    \n",
    "    elif item_as == \"remove\":\n",
    "        asu = input(\"Enter the item you want to remove: \")\n",
    "        if asu in list_item:\n",
    "            list_item.remove(asu)\n",
    "            print(f\"{asu} is removed from your cart. Current cart: {list_item}\")\n",
    "        else:\n",
    "            print(f\"{asu} is not in the cart.\")\n",
    "    \n",
    "    elif item_as == \"quit\":\n",
    "        print(\"Exiting the program.\")\n",
    "        break\n",
    "    \n",
    "    else:\n",
    "        print(\"Invalid input. Please enter 'add', 'remove', or 'quit'.\")\n"
   ]
  },
  {
   "cell_type": "markdown",
   "metadata": {},
   "source": [
    "# Problem 5:"
   ]
  },
  {
   "cell_type": "code",
   "execution_count": 92,
   "metadata": {},
   "outputs": [
    {
     "name": "stdout",
     "output_type": "stream",
     "text": [
      "The average score of 1: 71.4\n",
      "The average score of 2: 77.4\n",
      "The average score of 3: 60.8\n"
     ]
    }
   ],
   "source": [
    "#Scenario:2\n",
    "import numpy as np\n",
    "student = {\n",
    "    1: {\"math\": 80, \"english\": 67, \"chemistry\": 87, \"physics\": 67, \"urdu\": 56},\n",
    "    2: {\"math\": 80, \"english\": 57, \"chemistry\": 67, \"physics\": 87, \"urdu\": 96},\n",
    "    3: {\"math\": 30, \"english\": 67, \"chemistry\": 87, \"physics\": 64, \"urdu\": 56}\n",
    "}\n",
    "\n",
    "for student_id, subject in student.items():\n",
    "    scores = subject.values()\n",
    "    x = sum(scores)\n",
    "    y = len(subject)\n",
    "    print(f\"The average score of {student_id}: {x/y}\")\n",
    "\n"
   ]
  },
  {
   "cell_type": "markdown",
   "metadata": {},
   "source": [
    "# Problem 6:"
   ]
  },
  {
   "cell_type": "code",
   "execution_count": 113,
   "metadata": {},
   "outputs": [
    {
     "name": "stdout",
     "output_type": "stream",
     "text": [
      "['apple', 'apple', 'apple']\n",
      "['banana', 'banana']\n",
      "['orange']\n",
      "['grape']\n"
     ]
    }
   ],
   "source": [
    "\n",
    "word_list = [\"apple\", \"banana\", \"apple\", \"orange\", \"banana\", \"grape\", \"apple\"]\n",
    "grouped_words = {}\n",
    "\n",
    "for word in word_list:\n",
    "    if word in grouped_words:\n",
    "        grouped_words[word].append(word)\n",
    "    else:\n",
    "        grouped_words[word] = [word]\n",
    "\n",
    "print(grouped_words[\"apple\"])\n",
    "print(grouped_words[\"banana\"])\n",
    "print(grouped_words[\"orange\"])\n",
    "print(grouped_words[\"grape\"])\n",
    "\n",
    "    "
   ]
  },
  {
   "cell_type": "markdown",
   "metadata": {},
   "source": [
    "# Problem 6:"
   ]
  },
  {
   "cell_type": "code",
   "execution_count": 130,
   "metadata": {},
   "outputs": [],
   "source": [
    "# Scenaro 3:\n",
    "password = input(\"enter your password: \")\n",
    "if len(password) <8:\n",
    "    print(\"Your password must be at least 8 characters\")\n",
    "    if len(password) >=8:\n",
    "        i\n",
    "               \n",
    "               \n",
    "\n",
    "    "
   ]
  },
  {
   "cell_type": "markdown",
   "metadata": {},
   "source": [
    "# Problem 7:"
   ]
  },
  {
   "cell_type": "code",
   "execution_count": 135,
   "metadata": {},
   "outputs": [
    {
     "name": "stdout",
     "output_type": "stream",
     "text": [
      "4\n"
     ]
    }
   ],
   "source": [
    "import re\n",
    "\n",
    "txt = \"The rain in Spain\"\n",
    "x = re.search(\"rain\", txt)\n",
    "print(x.start())"
   ]
  },
  {
   "cell_type": "markdown",
   "metadata": {},
   "source": [
    "# Problem 8 :\n",
    "Define Candidates:\n",
    "Start by defining the list of candidates (nominees) for different award categories. For example:\n",
    "“Employee of the Year”: Candidate A\n",
    "“Team Player of the Year”: Candidate B\n",
    "“Innovation Award”: Candidate C\n",
    "Voting Process:\n",
    "Prompt employees to input the total number of voters participating in the awards.\n",
    "Display the list of nominees along with corresponding numbers.\n",
    "Each voter can vote for their preferred candidate by entering the corresponding number.\n",
    "Validation:\n",
    "Ensure that the entered vote is within the valid range of candidates (e.g., 1 to 3).\n",
    "If an employee enters an invalid vote, prompt them to choose a valid candidate.\n",
    "Record Votes:\n",
    "Maintain a dictionary to record each vote (candidate as the key and vote count as the value).\n",
    "Update the vote count for the selected candidate.\n",
    "Display Results:\n",
    "Once all votes are collected, display the voting results.\n",
    "Show the number of votes each candidate received in each award category.\n",
    "Identify Winners:\n",
    "Based on the voting results, identify the winners for each award category.\n",
    "Proceed with recognizing and rewarding the selected employees during the Annual Employee Recognition Ceremony.\n"
   ]
  },
  {
   "cell_type": "code",
   "execution_count": 4,
   "metadata": {},
   "outputs": [
    {
     "name": "stdout",
     "output_type": "stream",
     "text": [
      "\n",
      "Nominees:\n",
      "1: Candidate A\n",
      "2: Candidate B\n",
      "3: Candidate C\n",
      "Vote recorded successfully!\n",
      "\n",
      "Nominees:\n",
      "1: Candidate A\n",
      "2: Candidate B\n",
      "3: Candidate C\n",
      "Vote recorded successfully!\n",
      "\n",
      "Nominees:\n",
      "1: Candidate A\n",
      "2: Candidate B\n",
      "3: Candidate C\n",
      "Vote recorded successfully!\n",
      "\n",
      "Nominees:\n",
      "1: Candidate A\n",
      "2: Candidate B\n",
      "3: Candidate C\n",
      "Vote recorded successfully!\n",
      "\n",
      "Nominees:\n",
      "1: Candidate A\n",
      "2: Candidate B\n",
      "3: Candidate C\n",
      "Vote recorded successfully!\n",
      "\n",
      "Voting Results:\n",
      "Candidate A: 1 votes\n",
      "Candidate B: 3 votes\n",
      "Candidate C: 1 votes\n"
     ]
    }
   ],
   "source": [
    "def main():\n",
    "    candidates = {\n",
    "        1: \"Candidate A\",\n",
    "        2: \"Candidate B\",\n",
    "        3: \"Candidate C\"\n",
    "    }\n",
    "\n",
    "    num_voters = int(input(\"Enter the number of voters: \"))\n",
    "    votes = {candidate: 0 for candidate in candidates}\n",
    "\n",
    "    for _ in range(num_voters):\n",
    "        print(\"\\nNominees:\")\n",
    "        for num, name in candidates.items():\n",
    "            print(f\"{num}: {name}\")\n",
    "\n",
    "        vote = int(input(\"Enter your vote (1, 2, or 3): \"))\n",
    "        while vote not in candidates:\n",
    "            print(\"Invalid vote. Please choose a valid candidate.\")\n",
    "            vote = int(input(\"Enter your vote (1, 2, or 3): \"))\n",
    "\n",
    "        votes[vote] += 1\n",
    "        print(\"Vote recorded successfully!\")\n",
    "\n",
    "    print(\"\\nVoting Results:\")\n",
    "    for num, name in candidates.items():\n",
    "        print(f\"{name}: {votes[num]} votes\")\n",
    "\n",
    "    # Identify winners based on vote counts (you can customize this part)\n",
    "\n",
    "if __name__ == \"__main__\":\n",
    "    main()\n"
   ]
  }
 ],
 "metadata": {
  "kernelspec": {
   "display_name": "Python 3",
   "language": "python",
   "name": "python3"
  },
  "language_info": {
   "codemirror_mode": {
    "name": "ipython",
    "version": 3
   },
   "file_extension": ".py",
   "mimetype": "text/x-python",
   "name": "python",
   "nbconvert_exporter": "python",
   "pygments_lexer": "ipython3",
   "version": "3.12.4"
  }
 },
 "nbformat": 4,
 "nbformat_minor": 2
}
