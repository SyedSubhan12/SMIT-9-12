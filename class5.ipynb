{
 "cells": [
  {
   "cell_type": "markdown",
   "metadata": {},
   "source": [
    "List:\n",
    "Are mutable\n",
    "\n"
   ]
  },
  {
   "cell_type": "code",
   "execution_count": 6,
   "metadata": {},
   "outputs": [
    {
     "data": {
      "text/plain": [
       "['Qasim', 'Trainer', 'stats2']"
      ]
     },
     "execution_count": 6,
     "metadata": {},
     "output_type": "execute_result"
    }
   ],
   "source": [
    "bio_data = ['Qasim', 'Trainer', 'stats2']\n",
    "bio_data"
   ]
  },
  {
   "cell_type": "markdown",
   "metadata": {},
   "source": [
    "Tuples\n",
    ">Are immutable\n",
    ">Can be used to store multiple values in a single variable"
   ]
  },
  {
   "cell_type": "code",
   "execution_count": 7,
   "metadata": {},
   "outputs": [
    {
     "data": {
      "text/plain": [
       "tuple"
      ]
     },
     "execution_count": 7,
     "metadata": {},
     "output_type": "execute_result"
    }
   ],
   "source": [
    "tp_bio_data = ('Qasim', 'Trainer', '9to12')\n",
    "type(tp_bio_data)"
   ]
  },
  {
   "cell_type": "code",
   "execution_count": 8,
   "metadata": {},
   "outputs": [
    {
     "name": "stdout",
     "output_type": "stream",
     "text": [
      "<class 'list'>\n"
     ]
    }
   ],
   "source": [
    "lst= [1,4]\n",
    "print(type(lst))\n"
   ]
  },
  {
   "cell_type": "code",
   "execution_count": 10,
   "metadata": {},
   "outputs": [],
   "source": [
    "\n",
    "fruit = ['apple','banana','orange']\n"
   ]
  },
  {
   "cell_type": "code",
   "execution_count": 13,
   "metadata": {},
   "outputs": [
    {
     "data": {
      "text/plain": [
       "[(0, 'Qasim'), (1, 'Trainer'), (2, 'stats2')]"
      ]
     },
     "execution_count": 13,
     "metadata": {},
     "output_type": "execute_result"
    }
   ],
   "source": [
    "en = enumerate(bio_data)\n",
    "list(en)"
   ]
  },
  {
   "cell_type": "code",
   "execution_count": 14,
   "metadata": {},
   "outputs": [
    {
     "name": "stdout",
     "output_type": "stream",
     "text": [
      "apple is at 0\n",
      "banana is at 1\n",
      "orange is at 2\n"
     ]
    }
   ],
   "source": [
    "for data in enumerate(fruit):\n",
    "    print(f\"{data[1]} is at {data[0]}\")"
   ]
  },
  {
   "cell_type": "code",
   "execution_count": 25,
   "metadata": {},
   "outputs": [
    {
     "name": "stdout",
     "output_type": "stream",
     "text": [
      "20\n",
      "23\n",
      "26\n",
      "29\n"
     ]
    }
   ],
   "source": [
    "for i in range(20, 30, 3):\n",
    "    print(i)"
   ]
  },
  {
   "cell_type": "code",
   "execution_count": 27,
   "metadata": {},
   "outputs": [
    {
     "name": "stdout",
     "output_type": "stream",
     "text": [
      "apple\n",
      "apple\n",
      "apple\n",
      "apple\n",
      "apple\n",
      "apple\n",
      "apple\n",
      "apple\n",
      "apple\n",
      "apple\n",
      "apple\n",
      "apple\n",
      "apple\n",
      "apple\n",
      "apple\n",
      "['apple', 'apple', 'apple', 'apple', 'apple', 'apple', 'apple', 'apple', 'apple', 'apple', 'apple', 'apple', 'apple', 'apple', 'apple']\n"
     ]
    }
   ],
   "source": [
    "for i in range(15):\n",
    "    print('apple')\n",
    "    \n",
    "print(['apple'] * 15)    "
   ]
  },
  {
   "cell_type": "code",
   "execution_count": null,
   "metadata": {},
   "outputs": [],
   "source": [
    "bio = (\"syed ibrahim shah\",14,5,19,)\n",
    "print(bio.index(19))\n",
    "print(bio.countZ('syed ibrahim shah'))"
   ]
  },
  {
   "cell_type": "code",
   "execution_count": 47,
   "metadata": {},
   "outputs": [
    {
     "name": "stdout",
     "output_type": "stream",
     "text": [
      "Multan VS Karachi\n",
      "Multan VS Lahore\n",
      "Multan VS Islamabad\n",
      "Quetta VS Karachi\n",
      "Quetta VS Lahore\n",
      "Quetta VS Islamabad\n",
      "Peshawar VS Karachi\n",
      "Peshawar VS Lahore\n",
      "Peshawar VS Islamabad\n"
     ]
    }
   ],
   "source": [
    "group_A = ['Multan', 'Quetta', 'Peshawar']\n",
    "group_B = ['Karachi', 'Lahore', 'Islamabad']\n",
    "\n",
    "for i in group_A:\n",
    "    for j in group_B:\n",
    "        print(f\"{i} VS {j}\")\n",
    "       \n",
    "       \n",
    "        \n",
    "        \n",
    " "
   ]
  },
  {
   "cell_type": "code",
   "execution_count": 48,
   "metadata": {},
   "outputs": [],
   "source": [
    "#Dictionaries"
   ]
  },
  {
   "cell_type": "code",
   "execution_count": 52,
   "metadata": {},
   "outputs": [
    {
     "name": "stdout",
     "output_type": "stream",
     "text": [
      "<class 'dict'>\n"
     ]
    }
   ],
   "source": [
    "dict = {'age': 18, 'weight': 60,}\n",
    "dict['age']\n",
    "print(type(dict))"
   ]
  },
  {
   "cell_type": "code",
   "execution_count": null,
   "metadata": {},
   "outputs": [],
   "source": [
    "dict_versatility = {\"ibrahim\": 1,\n",
    "                    \"soban\":2,\n",
    "                    \"subhan\":3,}"
   ]
  },
  {
   "cell_type": "code",
   "execution_count": null,
   "metadata": {},
   "outputs": [],
   "source": [
    "dict_versatility ={'first name':}"
   ]
  },
  {
   "cell_type": "code",
   "execution_count": null,
   "metadata": {},
   "outputs": [],
   "source": [
    "things_to_remember ={'first name':}"
   ]
  },
  {
   "cell_type": "code",
   "execution_count": 60,
   "metadata": {},
   "outputs": [
    {
     "name": "stdout",
     "output_type": "stream",
     "text": [
      "Subhan\n",
      "22\n",
      "{'name': 'Subhan', 'age': 23, 'university': 'P.E.C.H.S'}\n"
     ]
    }
   ],
   "source": [
    "student = {\n",
    "    'name': 'Subhan', \n",
    "    'age' : 22,\n",
    "    'major': 'computer science'\n",
    "}\n",
    "\n",
    "print(student['name'])\n",
    "print(student['age'])\n",
    "\n",
    "student['university'] = 'P.E.C.H.S'\n",
    "\n",
    "student['age'] = 23\n",
    "\n",
    "del student['major']\n",
    "\n",
    "print(student)\n",
    "\n"
   ]
  },
  {
   "cell_type": "code",
   "execution_count": 65,
   "metadata": {},
   "outputs": [
    {
     "name": "stdout",
     "output_type": "stream",
     "text": [
      "5274 Weilselym\n"
     ]
    }
   ],
   "source": [
    "list_of_dict = [\n",
    "    {'first name': 'David',\n",
    "     'Last name': 'elisot',\n",
    "     'address': '5274 Weilselym',\n",
    "     'city': 'la'},\n",
    "    {'first name': 'Subhan',\n",
    "     'Last name': 'Shah',\n",
    "     'address': '2442 Azam',\n",
    "     'city': 'la'},\n",
    "    {'first name': 'Sobban',\n",
    "     'Last name': 'shah',\n",
    "     'address': '46464 street',\n",
    "     'city': 'la'}\n",
    "]\n",
    "for address in list_of_dict:\n",
    "    if address['first name'] == 'David':\n",
    "       print(address['address'])\n"
   ]
  }
 ],
 "metadata": {
  "kernelspec": {
   "display_name": "Python 3",
   "language": "python",
   "name": "python3"
  },
  "language_info": {
   "codemirror_mode": {
    "name": "ipython",
    "version": 3
   },
   "file_extension": ".py",
   "mimetype": "text/x-python",
   "name": "python",
   "nbconvert_exporter": "python",
   "pygments_lexer": "ipython3",
   "version": "3.12.4"
  }
 },
 "nbformat": 4,
 "nbformat_minor": 2
}
