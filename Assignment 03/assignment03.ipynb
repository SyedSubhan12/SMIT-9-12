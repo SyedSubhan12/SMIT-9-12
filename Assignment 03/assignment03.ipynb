{
 "cells": [
  {
   "cell_type": "markdown",
   "metadata": {},
   "source": [
    "### 1. Write a program that accepts a string from user. Your program should count and display number of \n",
    "### vowels in that string.  "
   ]
  },
  {
   "cell_type": "code",
   "execution_count": 9,
   "metadata": {},
   "outputs": [
    {
     "name": "stdout",
     "output_type": "stream",
     "text": [
      "3\n"
     ]
    }
   ],
   "source": [
    "str_input = input(\"Enter whatever you want i will tell you the vowels:  \")\n",
    "count = 0\n",
    "i_o = ['a', 'e', 'i', 'o', 'u']\n",
    "count = sum(1 for i in str_input if i in i_o)\n",
    "print(count)\n",
    "\n"
   ]
  },
  {
   "cell_type": "markdown",
   "metadata": {},
   "source": [
    "2. Write a program that reads a string from keyboard and display: \n",
    "* The number of uppercase letters in the string \n",
    "* The number of lowercase letters in the string \n",
    "* The number of digits in the string \n",
    "* The number of whitespace characters in the string"
   ]
  },
  {
   "cell_type": "code",
   "execution_count": 13,
   "metadata": {},
   "outputs": [
    {
     "name": "stdout",
     "output_type": "stream",
     "text": [
      "The number of uppercase character in the input :2\n",
      "The number of lowercase character in the input :8\n",
      "The number of digit in the input :2\n",
      "The number of whitespace character in the input :1\n"
     ]
    }
   ],
   "source": [
    "str_input_2 = input(\"Enter your input.. \")\n",
    "upper_count = 0\n",
    "lower_count = 0\n",
    "no_digit = 0\n",
    "no_whitespace = 0\n",
    "\n",
    "for i in str_input_2:\n",
    "    if i.isupper():\n",
    "        upper_count += 1\n",
    "    if i.islower():\n",
    "        lower_count += 1\n",
    "    if i.isdigit():\n",
    "        no_digit += 1\n",
    "    if i.isspace():\n",
    "        no_whitespace += 1          \n",
    "print(f\"The number of uppercase character in the input :{upper_count}\") \n",
    "print(f\"The number of lowercase character in the input :{lower_count}\") \n",
    "print(f\"The number of digit in the input :{no_digit}\") \n",
    "print(f\"The number of whitespace character in the input :{no_whitespace}\") \n",
    "\n",
    "        "
   ]
  },
  {
   "cell_type": "markdown",
   "metadata": {},
   "source": [
    "3. Write a Python program that accepts a string from user. Your program should create and display a \n",
    "new string where the first and last characters have been exchanged. "
   ]
  },
  {
   "cell_type": "code",
   "execution_count": 19,
   "metadata": {},
   "outputs": [
    {
     "name": "stdout",
     "output_type": "stream",
     "text": [
      "nubhas\n"
     ]
    }
   ],
   "source": [
    "str_input_3 = input(\"Enter your input.. \")\n",
    "def swap(str_input_3):\n",
    "    char_list = [char for char in str_input_3]\n",
    "    \n",
    "    char_list[0], char_list[-1] = char_list[-1], char_list[0]\n",
    "    swapped_string = ''.join(char_list)\n",
    "    print(swapped_string)\n",
    "swap(str_input_3)    "
   ]
  },
  {
   "cell_type": "markdown",
   "metadata": {},
   "source": [
    "4. Write a Python program that accepts a string from user. Your program should create a new string in \n",
    "reverse of first string and display it."
   ]
  },
  {
   "cell_type": "code",
   "execution_count": 20,
   "metadata": {},
   "outputs": [
    {
     "name": "stdout",
     "output_type": "stream",
     "text": [
      "nahbus\n"
     ]
    }
   ],
   "source": [
    "str_input_4 = input(\"Enter your input: \")\n",
    "print(str_input_4[::-1])"
   ]
  },
  {
   "cell_type": "markdown",
   "metadata": {},
   "source": [
    "5. Write a Python program that accepts a string from user. Your program should create a new string by \n",
    "shifting one position to left. \n",
    "For example if the user enters the string 'examination 2021' then new string would be 'xamination \n",
    "2021e'  "
   ]
  },
  {
   "cell_type": "code",
   "execution_count": 21,
   "metadata": {},
   "outputs": [
    {
     "name": "stdout",
     "output_type": "stream",
     "text": [
      "1ubhan 202s\n"
     ]
    }
   ],
   "source": [
    "str_input_3 = input(\"Enter you input: \")\n",
    "def swap_3(str_input_3):\n",
    "    char_list = [char for char in str_input_3]\n",
    "    \n",
    "    char_list[0], char_list[-1] = char_list[-1], char_list[0]\n",
    "    \n",
    "    swappe = ''.join(char_list)\n",
    "    print(swappe)\n",
    "    \n",
    "swap_3(str_input_3)    "
   ]
  },
  {
   "cell_type": "markdown",
   "metadata": {},
   "source": [
    "6. Write a program that asks the user to input his name and print its initials. Assuming that the user \n",
    "always types first name, middle name and last name and does not include any unnecessary spaces. \n",
    "For example, if the user enters Ajay Kumar Garg the program should display A. K. G. \n",
    "Note:Don't use split() method  \n"
   ]
  },
  {
   "cell_type": "code",
   "execution_count": 24,
   "metadata": {},
   "outputs": [
    {
     "name": "stdout",
     "output_type": "stream",
     "text": [
      "S.S.S\n"
     ]
    }
   ],
   "source": [
    "str_input_5 = input(\"Enter  you first name:\")\n",
    "str_input_6 = input(\"Enter your second name: \")\n",
    "str_input_7 = input(\"Enter your last name : \")\n",
    "print(f\"{str_input_5[0].upper()}.{str_input_6[0].upper()}.{str_input_7[0].upper()}\")"
   ]
  },
  {
   "cell_type": "markdown",
   "metadata": {},
   "source": [
    "7. A palindrome is a string that reads the same backward as forward. For example, the words dad, \n",
    "madam and radar are all palindromes. Write a programs that determines whether the string is a \n",
    "palindrome. \n",
    "Note: do not use reverse() method  "
   ]
  },
  {
   "cell_type": "code",
   "execution_count": 27,
   "metadata": {},
   "outputs": [
    {
     "name": "stdout",
     "output_type": "stream",
     "text": [
      "No! Not a palindrome\n"
     ]
    }
   ],
   "source": [
    "str_input_8 = input(\"Enter the string.. \")\n",
    "def palindrome(str_input_8):\n",
    "    if str_input_8 == str_input_8[::-1]:\n",
    "        print(f\"Yes! {str_input_8} is a palindrome.. \")\n",
    "    else:\n",
    "        print(\"No! Not a palindrome\")    \n",
    "        \n",
    "palindrome(str_input_8)        "
   ]
  },
  {
   "cell_type": "markdown",
   "metadata": {},
   "source": [
    "8. Write a program that display following output: \n",
    "SHIFT \n",
    "HIFTS \n",
    "IFTSH \n",
    "FTSHI \n",
    "TSHIF \n",
    "SHIFT "
   ]
  },
  {
   "cell_type": "code",
   "execution_count": 28,
   "metadata": {},
   "outputs": [
    {
     "name": "stdout",
     "output_type": "stream",
     "text": [
      "SHIFT\n",
      "HIFTS\n",
      "IFTSH\n",
      "FTSHI\n",
      "TSHIF\n"
     ]
    }
   ],
   "source": [
    "def shift_string(s):\n",
    "    for i in range(len(s)):\n",
    "        print(s[i:] + s[:i])\n",
    "\n",
    "# The string to be shifted\n",
    "text = \"SHIFT\"\n",
    "shift_string(text)\n"
   ]
  },
  {
   "cell_type": "markdown",
   "metadata": {},
   "source": [
    "9. Write a program in python that accepts a string to setup a passwords. Your entered password must \n",
    "meet the following requirements: <br>\n",
    "The password must be at least eight characters long. <br>\n",
    "It must contain at least one uppercase letter. <br>\n",
    "It must contain at least one lowercase letter. <br>\n",
    "It must contain at least one numeric digit. <br>\n",
    "Your program should should perform this validation.   "
   ]
  },
  {
   "cell_type": "code",
   "execution_count": 29,
   "metadata": {},
   "outputs": [
    {
     "name": "stdout",
     "output_type": "stream",
     "text": [
      "Password is strong\n"
     ]
    }
   ],
   "source": [
    "import re\n",
    "def check_pass(password):\n",
    "   \n",
    "    if len(password) <8:\n",
    "        return \"Your password must be at least 8 characters\"\n",
    "    if not re.search(r\"\\d\", password):\n",
    "        return \"Password should contain at least one digit\"\n",
    "    if not re.search(r'[a-zA-Z]', password):\n",
    "        return \"Password should contain at least one letter\" \n",
    "    \n",
    "    return \"Password is strong\"\n",
    "password = input(\"enter your password: \")\n",
    "print(check_pass(password))\n",
    "        "
   ]
  }
 ],
 "metadata": {
  "kernelspec": {
   "display_name": "Python 3",
   "language": "python",
   "name": "python3"
  },
  "language_info": {
   "codemirror_mode": {
    "name": "ipython",
    "version": 3
   },
   "file_extension": ".py",
   "mimetype": "text/x-python",
   "name": "python",
   "nbconvert_exporter": "python",
   "pygments_lexer": "ipython3",
   "version": "3.12.4"
  }
 },
 "nbformat": 4,
 "nbformat_minor": 2
}
