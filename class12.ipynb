{
 "cells": [
  {
   "cell_type": "code",
   "execution_count": 1,
   "metadata": {},
   "outputs": [
    {
     "name": "stdout",
     "output_type": "stream",
     "text": [
      "append\n",
      "clear\n",
      "copy\n",
      "count\n",
      "extend\n",
      "index\n",
      "insert\n",
      "pop\n",
      "remove\n",
      "reverse\n",
      "sort\n"
     ]
    }
   ],
   "source": [
    "for i in dir(list):\n",
    "    if \"__\" in i:\n",
    "        continue\n",
    "    else:\n",
    "        print(i)"
   ]
  },
  {
   "cell_type": "code",
   "execution_count": 8,
   "metadata": {},
   "outputs": [
    {
     "name": "stdout",
     "output_type": "stream",
     "text": [
      "['append', 'clear', 'copy', 'count', 'extend', 'index', 'insert', 'pop', 'remove', 'reverse', 'sort']\n"
     ]
    }
   ],
   "source": [
    "[i for i in dir(list) if \"__\" not in i]\n"
   ]
  },
  {
   "cell_type": "code",
   "execution_count": 37,
   "metadata": {},
   "outputs": [
    {
     "data": {
      "text/plain": [
       "'Romeo and Juliet , subhan, 1980,  Oxford University'"
      ]
     },
     "execution_count": 37,
     "metadata": {},
     "output_type": "execute_result"
    }
   ],
   "source": [
    "class Book:\n",
    "    counter = 0\n",
    "    organization = \"Oxford University\"\n",
    "    def __init__(self, title, publish_year):\n",
    "        self.title = title\n",
    "        self.publish_year = publish_year\n",
    "        Book.counter += 1\n",
    "        \n",
    "        \n",
    "    def author(self):\n",
    "        author = input(\"Enter the name of the author\")\n",
    "        return f\"{self.title} , {author}, {self.publish_year},  {Book.organization}\"\n",
    "book1 = Book(\"Romeo and Juliet\", 1980)\n",
    "book1.author()\n"
   ]
  },
  {
   "cell_type": "code",
   "execution_count": 33,
   "metadata": {},
   "outputs": [
    {
     "name": "stdout",
     "output_type": "stream",
     "text": [
      "2\n"
     ]
    }
   ],
   "source": [
    "book2 = Book(\"Python from scratch\", 1980)\n",
    "book2.author()\n",
    "\n",
    "print(Book.counter)"
   ]
  },
  {
   "cell_type": "code",
   "execution_count": 34,
   "metadata": {},
   "outputs": [
    {
     "data": {
      "text/plain": [
       "'Deep Learning from scratch , subna, 1980'"
      ]
     },
     "execution_count": 34,
     "metadata": {},
     "output_type": "execute_result"
    }
   ],
   "source": [
    "book2 = Book(\"Deep Learning from scratch\", 1980)\n",
    "book2.author()"
   ]
  },
  {
   "cell_type": "code",
   "execution_count": 48,
   "metadata": {},
   "outputs": [],
   "source": [
    "class Math:\n",
    "    roll_number = 34658 #Static variable\n",
    "    def __init__(self) -> None:\n",
    "        pass\n",
    "    @staticmethod\n",
    "    def add(number1: int, number2: int):\n",
    "        \"\"\" \n",
    "        Adds two numbers\"\"\"\n",
    "        return number1 + number2\n",
    "    @staticmethod\n",
    "    def multiply(num1 : int, num2 : int):\n",
    "        \"\"\" \n",
    "        Multiply two numbers\"\"\"\n",
    "        return num1 *  num2"
   ]
  },
  {
   "cell_type": "code",
   "execution_count": 49,
   "metadata": {},
   "outputs": [
    {
     "data": {
      "text/plain": [
       "30"
      ]
     },
     "execution_count": 49,
     "metadata": {},
     "output_type": "execute_result"
    }
   ],
   "source": [
    "addition = Math()\n",
    "addition.add(3, 4)\n",
    "addition.multiply(5, 6)"
   ]
  },
  {
   "cell_type": "code",
   "execution_count": 50,
   "metadata": {},
   "outputs": [
    {
     "name": "stdout",
     "output_type": "stream",
     "text": [
      "34658\n"
     ]
    }
   ],
   "source": [
    "print(Math.roll_number)"
   ]
  },
  {
   "cell_type": "code",
   "execution_count": 51,
   "metadata": {},
   "outputs": [],
   "source": [
    "class Parent:\n",
    "    \n",
    "    def __init__(self, eye_color, skin_color) -> None:\n",
    "        self.eye_color = eye_color\n",
    "        self.skin_color = skin_color\n",
    "        \n",
    "    def speak(self):\n",
    "        print(f\"Can Speak\")\n",
    "\n",
    "class Child(Parent):\n",
    "    def __init__(self, eye_color, skin_color) -> None:\n",
    "        super().__init__(eye_color, skin_color)\n",
    "    def otheractivity(self):\n",
    "        print(\"Can do progamming\")"
   ]
  },
  {
   "cell_type": "code",
   "execution_count": null,
   "metadata": {},
   "outputs": [],
   "source": []
  },
  {
   "cell_type": "code",
   "execution_count": 56,
   "metadata": {},
   "outputs": [
    {
     "data": {
      "text/plain": [
       "'Fool'"
      ]
     },
     "execution_count": 56,
     "metadata": {},
     "output_type": "execute_result"
    }
   ],
   "source": [
    "child = Child(\"Bue\", \"Fool\")\n",
    "child.skin_color"
   ]
  },
  {
   "cell_type": "code",
   "execution_count": 58,
   "metadata": {},
   "outputs": [
    {
     "data": {
      "text/plain": [
       "'your balance is 24334 and you withdraw 232, an the remain_balance is 24102'"
      ]
     },
     "execution_count": 58,
     "metadata": {},
     "output_type": "execute_result"
    }
   ],
   "source": [
    "class Account:\n",
    "    def __init__(self, name: str, id:int, balance:float) -> None:\n",
    "        self.name = name\n",
    "        self.id = id\n",
    "        self.balance = balance\n",
    "        \n",
    "    def balanceInquiry(self):\n",
    "        return f\"{self.balance}\"\n",
    "    def withdrawMoney(self):\n",
    "        withdraw = int(input(\"Enter the amount: \"))\n",
    "        transation = self.balance - withdraw\n",
    "        return f\"your balance is { self.balance} and you withdraw { withdraw}, an the remain_balance is {transation}\" \n",
    "\n",
    "SBI = Account(\"SyedSubhanShah\", 234243, 24334)\n",
    "SBI.balanceInquiry()       \n",
    "SBI.withdrawMoney()\n",
    "        "
   ]
  },
  {
   "cell_type": "code",
   "execution_count": 66,
   "metadata": {},
   "outputs": [],
   "source": [
    "class Father:\n",
    "    def __init__(self, eye_color) -> None:\n",
    "        self.eye_color = eye_color\n",
    "\n",
    "    def speak(self):\n",
    "        print(\"Can speak\")\n",
    "\n",
    "class Mother:\n",
    "    def __init__(self, skin_color) -> None:\n",
    "        self.skin_color = skin_color\n",
    "\n",
    "    def teach(self):\n",
    "        print(\"Yes, I can teach my child\")\n",
    "\n",
    "class Child(Father, Mother):\n",
    "    def __init__(self, eye_color, skin_color) -> None:\n",
    "        Father.__init__(self, eye_color)         \n",
    "        Mother.__init__(self, skin_color)\n"
   ]
  },
  {
   "cell_type": "code",
   "execution_count": 68,
   "metadata": {},
   "outputs": [
    {
     "name": "stdout",
     "output_type": "stream",
     "text": [
      "Can speak\n"
     ]
    }
   ],
   "source": [
    "child = Child(\"brown\", \"brown\")\n",
    "child.speak()"
   ]
  }
 ],
 "metadata": {
  "kernelspec": {
   "display_name": "Python 3",
   "language": "python",
   "name": "python3"
  },
  "language_info": {
   "codemirror_mode": {
    "name": "ipython",
    "version": 3
   },
   "file_extension": ".py",
   "mimetype": "text/x-python",
   "name": "python",
   "nbconvert_exporter": "python",
   "pygments_lexer": "ipython3",
   "version": "3.12.4"
  }
 },
 "nbformat": 4,
 "nbformat_minor": 2
}
