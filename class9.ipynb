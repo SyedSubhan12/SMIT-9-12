{
 "cells": [
  {
   "cell_type": "code",
   "execution_count": 2,
   "metadata": {},
   "outputs": [
    {
     "data": {
      "text/plain": [
       "['__add__',\n",
       " '__class__',\n",
       " '__class_getitem__',\n",
       " '__contains__',\n",
       " '__delattr__',\n",
       " '__delitem__',\n",
       " '__dir__',\n",
       " '__doc__',\n",
       " '__eq__',\n",
       " '__format__',\n",
       " '__ge__',\n",
       " '__getattribute__',\n",
       " '__getitem__',\n",
       " '__getstate__',\n",
       " '__gt__',\n",
       " '__hash__',\n",
       " '__iadd__',\n",
       " '__imul__',\n",
       " '__init__',\n",
       " '__init_subclass__',\n",
       " '__iter__',\n",
       " '__le__',\n",
       " '__len__',\n",
       " '__lt__',\n",
       " '__mul__',\n",
       " '__ne__',\n",
       " '__new__',\n",
       " '__reduce__',\n",
       " '__reduce_ex__',\n",
       " '__repr__',\n",
       " '__reversed__',\n",
       " '__rmul__',\n",
       " '__setattr__',\n",
       " '__setitem__',\n",
       " '__sizeof__',\n",
       " '__str__',\n",
       " '__subclasshook__',\n",
       " 'append',\n",
       " 'clear',\n",
       " 'copy',\n",
       " 'count',\n",
       " 'extend',\n",
       " 'index',\n",
       " 'insert',\n",
       " 'pop',\n",
       " 'remove',\n",
       " 'reverse',\n",
       " 'sort']"
      ]
     },
     "execution_count": 2,
     "metadata": {},
     "output_type": "execute_result"
    }
   ],
   "source": [
    "\n",
    "dir(list)\n",
    "\n"
   ]
  },
  {
   "cell_type": "code",
   "execution_count": 12,
   "metadata": {},
   "outputs": [
    {
     "name": "stdout",
     "output_type": "stream",
     "text": [
      "Dawood is travelling  in Suzuki\n"
     ]
    }
   ],
   "source": [
    "class Cars:\n",
    "    def __init__(self, year:int, name:str , brand:str, color:str):       \n",
    "        self.year = year\n",
    "        self.name = name\n",
    "        self.brand = brand\n",
    "        self.color = color\n",
    "        \n",
    "    def travel(self, passenger:str):\n",
    "        print(f\"{passenger} is travelling  in {self.name}\")\n",
    "    def carry(self, weight:int):\n",
    "        print(f\"{self.name} is carrying goods of weight: {weight}\")\n",
    "                \n",
    "        \n",
    "car1 = Cars(2015, 'Suzuki', 'Bolan', 'pink')\n",
    "car1.travel(\"Dawood\")"
   ]
  },
  {
   "cell_type": "code",
   "execution_count": 15,
   "metadata": {},
   "outputs": [
    {
     "name": "stdout",
     "output_type": "stream",
     "text": [
      "Suzuki is carrying goods of weight: 6\n"
     ]
    }
   ],
   "source": [
    "car1.carry(6)"
   ]
  },
  {
   "cell_type": "code",
   "execution_count": 18,
   "metadata": {},
   "outputs": [
    {
     "name": "stdout",
     "output_type": "stream",
     "text": [
      "Syed SUbhan Shah congratulation for being selected for the Python from 9-12 at Bahadurabad\n"
     ]
    }
   ],
   "source": [
    "class Saylani:\n",
    "    def __init__(self,course,time, branch):\n",
    "        self.time = time\n",
    "        self.course = course\n",
    "        self.branch = branch\n",
    "    def greeting(self, name:str):\n",
    "        print(f\"{name} congratulation for being selected for the {self.course} from {self.time} at {self.branch}\")\n",
    "   \n",
    "greet = Saylani('Python', '9-12', 'Bahadurabad')\n",
    "greet.greeting('Syed SUbhan Shah')     \n",
    "            "
   ]
  },
  {
   "cell_type": "code",
   "execution_count": 26,
   "metadata": {},
   "outputs": [
    {
     "name": "stdout",
     "output_type": "stream",
     "text": [
      "sir subhan is teaching python now\n"
     ]
    }
   ],
   "source": [
    "class Teacher:\n",
    "    counter  = 0\n",
    "    \n",
    "    def __init__(self, name:str, course:str, time:str):\n",
    "        self.name = name\n",
    "        self.course = course\n",
    "        self.time = time\n",
    "        Teacher.counter +=1\n",
    "    def yoe(self, eoe:int):\n",
    "        print(f\"{self.name} has {eoe} years of experience\")\n",
    "    def current(self, curr_course):\n",
    "        print(f\"{self.name} is teaching {curr_course} now\")    \n",
    "    def detail(self, class_num:str, subject:str):\n",
    "        print(f\"{self.name} is a teacher of {class_num}. he teaches {subject}\")\n",
    "\n",
    "sir = Teacher('sir subhan', 'python', '9-12')\n",
    "sir.current('python')\n"
   ]
  },
  {
   "cell_type": "code",
   "execution_count": 27,
   "metadata": {},
   "outputs": [
    {
     "data": {
      "text/plain": [
       "1"
      ]
     },
     "execution_count": 27,
     "metadata": {},
     "output_type": "execute_result"
    }
   ],
   "source": [
    "sir.counter"
   ]
  },
  {
   "cell_type": "code",
   "execution_count": 224,
   "metadata": {},
   "outputs": [],
   "source": [
    "sir = Teacher('sir subhan', 'python', '9-12')\n"
   ]
  }
 ],
 "metadata": {
  "kernelspec": {
   "display_name": "Python 3",
   "language": "python",
   "name": "python3"
  },
  "language_info": {
   "codemirror_mode": {
    "name": "ipython",
    "version": 3
   },
   "file_extension": ".py",
   "mimetype": "text/x-python",
   "name": "python",
   "nbconvert_exporter": "python",
   "pygments_lexer": "ipython3",
   "version": "3.12.4"
  }
 },
 "nbformat": 4,
 "nbformat_minor": 2
}
