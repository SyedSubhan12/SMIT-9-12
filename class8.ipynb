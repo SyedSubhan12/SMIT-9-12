{
 "cells": [
  {
   "cell_type": "code",
   "execution_count": 1,
   "metadata": {},
   "outputs": [
    {
     "data": {
      "text/plain": [
       "5.072500000000001"
      ]
     },
     "execution_count": 1,
     "metadata": {},
     "output_type": "execute_result"
    }
   ],
   "source": [
    "def counter_deduct(sales= 101.45, tax_rate=0.05):\n",
    "    return sales * tax_rate\n",
    "counter_deduct()\n",
    "    "
   ]
  },
  {
   "cell_type": "code",
   "execution_count": 2,
   "metadata": {},
   "outputs": [
    {
     "data": {
      "text/plain": [
       "'The size  of your shirt is Medium and the color is red'"
      ]
     },
     "execution_count": 2,
     "metadata": {},
     "output_type": "execute_result"
    }
   ],
   "source": [
    "def print_order(size=\"Medium\", color='red', product='shirt'):\n",
    "    return f\"The size  of your {product} is {size} and the color is {color}\"\n",
    "print_order()"
   ]
  },
  {
   "cell_type": "markdown",
   "metadata": {},
   "source": [
    "# returning function"
   ]
  },
  {
   "cell_type": "code",
   "execution_count": 5,
   "metadata": {},
   "outputs": [],
   "source": [
    "def counter_deduct(sales= 101.45, tax_rate=0.05):\n",
    "    tax = sales * tax_rate\n",
    "    return tax"
   ]
  },
  {
   "cell_type": "code",
   "execution_count": 8,
   "metadata": {},
   "outputs": [
    {
     "name": "stdout",
     "output_type": "stream",
     "text": [
      "5.072500000000001\n"
     ]
    }
   ],
   "source": [
    "\n",
    "tax = counter_deduct()\n",
    "print(tax)\n"
   ]
  },
  {
   "cell_type": "code",
   "execution_count": 20,
   "metadata": {},
   "outputs": [
    {
     "data": {
      "text/plain": [
       "'Seattle'"
      ]
     },
     "execution_count": 20,
     "metadata": {},
     "output_type": "execute_result"
    }
   ],
   "source": [
    "\n",
    "customers = {\n",
    "    0: {\n",
    "        \"first_name\": \"Alice\",\n",
    "        \"last_name\": \"Smith\",\n",
    "        \"address\": \"123 Main St\",\n",
    "        \"city\": \"Seattle\"\n",
    "    },\n",
    "    1: {\n",
    "        \"first_name\": \"Bob\",\n",
    "        \"last_name\": \"Johnson\",\n",
    "        \"address\": \"456 Elm St\",\n",
    "        \"city\": \"New York\"\n",
    "    },\n",
    "    2: {\n",
    "        \"first_name\": \"Charlie\",\n",
    "        \"last_name\": \"Brown\",\n",
    "        \"address\": \"789 Oak Ave\",\n",
    "        \"city\": \"Los Angeles\"\n",
    "    },\n",
    "    3: {\n",
    "        \"first_name\": \"David\",\n",
    "        \"last_name\": \"Lee\",\n",
    "        \"address\": \"101 Pine Rd\",\n",
    "        \"city\": \"Chicago\"\n",
    "    }\n",
    "}\n",
    "def customer_info(id = int(input(\"Enter the id of the customer: \")), detail = input(f\"Enter the information you want about {id}: \")):\n",
    "    \n",
    "    for i in customers.keys():\n",
    "        if i == id:\n",
    "            x = customers[id][detail]\n",
    "            return x\n",
    "customer_info()        \n",
    "            \n",
    "            "
   ]
  },
  {
   "cell_type": "markdown",
   "metadata": {},
   "source": [
    "# Dealing with unknown argument"
   ]
  },
  {
   "cell_type": "code",
   "execution_count": 21,
   "metadata": {},
   "outputs": [],
   "source": [
    "def winner(winner_name, score):\n",
    "    print(f\"Winner name is {winner_name}, and the score is {score}\")"
   ]
  },
  {
   "cell_type": "code",
   "execution_count": 22,
   "metadata": {},
   "outputs": [
    {
     "name": "stdout",
     "output_type": "stream",
     "text": [
      "Winner name is Subhan, and the score is 9\n"
     ]
    }
   ],
   "source": [
    "winner(\"Subhan\", 9)"
   ]
  },
  {
   "cell_type": "code",
   "execution_count": 46,
   "metadata": {},
   "outputs": [],
   "source": [
    "def winner(winner_name, score, *args):\n",
    "    print(f\"Winner name is {winner_name}, and the score is {score}\")\n",
    "    for arg in args:\n",
    "        print(arg)"
   ]
  },
  {
   "cell_type": "code",
   "execution_count": 47,
   "metadata": {},
   "outputs": [
    {
     "name": "stdout",
     "output_type": "stream",
     "text": [
      "Winner name is Subhan, and the score is 9\n",
      "True\n",
      "False\n"
     ]
    }
   ],
   "source": [
    "\n",
    "winner(\"Subhan\", 9, True, False)"
   ]
  },
  {
   "cell_type": "code",
   "execution_count": 9,
   "metadata": {},
   "outputs": [
    {
     "name": "stdout",
     "output_type": "stream",
     "text": [
      "hello\n"
     ]
    }
   ],
   "source": [
    "\n",
    "\n",
    "def greet():\n",
    "    global welcome\n",
    "    welcome = \"hello\"\n",
    "    print(welcome)\n",
    "greet()"
   ]
  },
  {
   "cell_type": "code",
   "execution_count": 10,
   "metadata": {},
   "outputs": [
    {
     "name": "stdout",
     "output_type": "stream",
     "text": [
      "hello\n"
     ]
    }
   ],
   "source": [
    "print(welcome)"
   ]
  },
  {
   "cell_type": "code",
   "execution_count": 11,
   "metadata": {},
   "outputs": [],
   "source": [
    "global tax\n",
    "tax = 0.02\n",
    "def addition():\n",
    "    a = 10\n",
    "    b = 100\n",
    "    total = (a + b) *tax\n",
    "    return total\n"
   ]
  },
  {
   "cell_type": "code",
   "execution_count": 12,
   "metadata": {},
   "outputs": [
    {
     "data": {
      "text/plain": [
       "2.2"
      ]
     },
     "execution_count": 12,
     "metadata": {},
     "output_type": "execute_result"
    }
   ],
   "source": [
    "addition()"
   ]
  },
  {
   "cell_type": "code",
   "execution_count": 5,
   "metadata": {},
   "outputs": [
    {
     "data": {
      "text/plain": [
       "66.0"
      ]
     },
     "execution_count": 5,
     "metadata": {},
     "output_type": "execute_result"
    }
   ],
   "source": [
    "def calc_tax(total):\n",
    "        total_sales = total * 0.22\n",
    "        return total_sales\n",
    "    \n",
    "\\\n",
    "def sales_clac(gulshan_store, dha_store, tariq_store):\n",
    "    total = gulshan_store + dha_store + tariq_store\n",
    "    \n",
    "    return calc_tax(total)\n",
    "\n",
    "    \n",
    "gulshan_store = int(input(\"Enter the sales of gulshan: \"))\n",
    "dha_store = int(input(\"Enter the sales of dha: \"))\n",
    "tariq_store = int(input(\"Enter the sales of tariq: \"))\n",
    "sales_clac(gulshan_store, dha_store, tariq_store)\n"
   ]
  },
  {
   "cell_type": "code",
   "execution_count": 2,
   "metadata": {},
   "outputs": [],
   "source": [
    "clean_countries = ['Pakistan', 'Bangladesh', 'India']"
   ]
  },
  {
   "cell_type": "code",
   "execution_count": 8,
   "metadata": {},
   "outputs": [],
   "source": [
    "i = \"Bangladesh\"\n",
    "while i not in clean_countries:\n",
    "    print(i)"
   ]
  },
  {
   "cell_type": "code",
   "execution_count": 7,
   "metadata": {},
   "outputs": [
    {
     "name": "stdout",
     "output_type": "stream",
     "text": [
      "Validation check: Pakistan\n",
      "Pakistan is clean\n"
     ]
    }
   ],
   "source": [
    "user_input = input(\"Enter the country: \")\n",
    "for country in clean_countries:\n",
    "    print(f\"Validation check: {country}\")\n",
    "    if user_input.lower() == country.lower():\n",
    "        print(f\"{country} is clean\")\n",
    "        break"
   ]
  },
  {
   "cell_type": "code",
   "execution_count": 9,
   "metadata": {},
   "outputs": [
    {
     "name": "stdout",
     "output_type": "stream",
     "text": [
      "Pakistan is clean\n"
     ]
    }
   ],
   "source": [
    "while_cond = True\n",
    "while while_cond:\n",
    "    user_input = input(\"Enter the country: \")\n",
    "    if user_input.lower() == country.lower():\n",
    "        print(f\"{country} is clean\")\n",
    "        while_cond = False\n",
    "    "
   ]
  }
 ],
 "metadata": {
  "kernelspec": {
   "display_name": "Python 3",
   "language": "python",
   "name": "python3"
  },
  "language_info": {
   "codemirror_mode": {
    "name": "ipython",
    "version": 3
   },
   "file_extension": ".py",
   "mimetype": "text/x-python",
   "name": "python",
   "nbconvert_exporter": "python",
   "pygments_lexer": "ipython3",
   "version": "3.12.4"
  }
 },
 "nbformat": 4,
 "nbformat_minor": 2
}
