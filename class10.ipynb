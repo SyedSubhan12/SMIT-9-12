{
 "cells": [
  {
   "cell_type": "markdown",
   "metadata": {},
   "source": [
    "# Exception"
   ]
  },
  {
   "cell_type": "code",
   "execution_count": 1,
   "metadata": {},
   "outputs": [
    {
     "name": "stdout",
     "output_type": "stream",
     "text": [
      "trying\n",
      "An error occured\n"
     ]
    }
   ],
   "source": [
    "a = int(input())\n",
    "try:\n",
    "    print(\"trying\")\n",
    "    print(a + \"Hello\")\n",
    "    print(\"executing\")\n",
    "except:\n",
    "    print(\"An error occured\")    "
   ]
  },
  {
   "cell_type": "markdown",
   "metadata": {},
   "source": [
    "# Final Block"
   ]
  },
  {
   "cell_type": "code",
   "execution_count": 2,
   "metadata": {},
   "outputs": [
    {
     "name": "stdout",
     "output_type": "stream",
     "text": [
      "trying\n",
      "An error occured\n",
      "Succeded\n"
     ]
    }
   ],
   "source": [
    "a = int(input())\n",
    "try:\n",
    "    print(\"trying\")\n",
    "    print(a + \"Hello\")\n",
    "    print(\"executing\")\n",
    "except:\n",
    "    print(\"An error occured\")     \n",
    "finally:\n",
    "    print(\"Succeded\")    "
   ]
  },
  {
   "cell_type": "code",
   "execution_count": 2,
   "metadata": {},
   "outputs": [
    {
     "name": "stdout",
     "output_type": "stream",
     "text": [
      "invalid literal for int() with base 10: 'abd'\n"
     ]
    }
   ],
   "source": [
    "#Converting a string to an integer\n",
    "try:\n",
    "    number =int(\"abd\")\n",
    "except ValueError as e:\n",
    "    print(e)    "
   ]
  },
  {
   "cell_type": "code",
   "execution_count": 3,
   "metadata": {},
   "outputs": [
    {
     "name": "stdout",
     "output_type": "stream",
     "text": [
      "name 'my_var' is not defined\n"
     ]
    }
   ],
   "source": [
    "#trying to use a var tha hasn't been defined\n",
    "try:\n",
    "    print(my_var)\n",
    "except NameError as e:\n",
    "    print(e)    "
   ]
  },
  {
   "cell_type": "code",
   "execution_count": 4,
   "metadata": {},
   "outputs": [
    {
     "name": "stdout",
     "output_type": "stream",
     "text": [
      "division by zero\n"
     ]
    }
   ],
   "source": [
    "try:\n",
    "    result = 10 /0\n",
    "except ZeroDivisionError as e:\n",
    "    print(e)    "
   ]
  },
  {
   "cell_type": "code",
   "execution_count": 7,
   "metadata": {},
   "outputs": [
    {
     "name": "stdout",
     "output_type": "stream",
     "text": [
      "You had passed a str ..\n"
     ]
    }
   ],
   "source": [
    "# Scenario 1:\n",
    "try:\n",
    "    num = int(input())\n",
    "    print(num/3)\n",
    "except ValueError:\n",
    "    print(\"You had passed a str ..\")    "
   ]
  },
  {
   "cell_type": "code",
   "execution_count": 8,
   "metadata": {},
   "outputs": [
    {
     "name": "stdout",
     "output_type": "stream",
     "text": [
      "Non-numeric string\n"
     ]
    }
   ],
   "source": [
    "#scenario 2:\n",
    "try:\n",
    "    stri = float(\"abd\")\n",
    "    \n",
    "except ValueError:\n",
    "    print(\"Non-numeric string\")\n",
    "    "
   ]
  },
  {
   "cell_type": "code",
   "execution_count": 10,
   "metadata": {},
   "outputs": [
    {
     "name": "stdout",
     "output_type": "stream",
     "text": [
      "Error: Age must be greater than 18\n"
     ]
    }
   ],
   "source": [
    "def check_age(age):\n",
    "    if age < 18:\n",
    "        raise ValueError(\"Age must be greater than 18\")\n",
    "    else:\n",
    "        print(\"Age is acceptable\")\n",
    "try:\n",
    "    check_age(17)\n",
    "except ValueError as e:\n",
    "    print(f\"Error: {e}\")    "
   ]
  },
  {
   "cell_type": "code",
   "execution_count": 14,
   "metadata": {},
   "outputs": [
    {
     "name": "stdout",
     "output_type": "stream",
     "text": [
      "\n"
     ]
    }
   ],
   "source": [
    "file = open('python.txt', 'r')\n",
    "content = file.read()\n",
    "print(content)"
   ]
  },
  {
   "cell_type": "code",
   "execution_count": 17,
   "metadata": {},
   "outputs": [],
   "source": [
    "file = open(\"python.txt\", 'a')\n",
    "content = 'Saylani Mass IT Training'\n",
    "file.write(content)\n",
    "file.close()"
   ]
  },
  {
   "cell_type": "code",
   "execution_count": 18,
   "metadata": {},
   "outputs": [],
   "source": [
    "file = open(\"'python.txt\", \"a\")\n",
    "content = \"\\n Saylani Mass It jfdgtraining\"\n",
    "file.write(content)\n",
    "file.close()"
   ]
  },
  {
   "cell_type": "code",
   "execution_count": 19,
   "metadata": {},
   "outputs": [
    {
     "name": "stdout",
     "output_type": "stream",
     "text": [
      "This file doesnot exit\n"
     ]
    }
   ],
   "source": [
    "try:\n",
    "    file = open(\"openai.txt\", 'r')\n",
    "    file.read()\n",
    "    file.close()\n",
    "except FileNotFoundError:\n",
    "    print(\"This file doesnot exit\")    "
   ]
  },
  {
   "cell_type": "code",
   "execution_count": 21,
   "metadata": {},
   "outputs": [
    {
     "name": "stdout",
     "output_type": "stream",
     "text": [
      "Incorrect file mode\n"
     ]
    }
   ],
   "source": [
    "try:\n",
    "    file = open(\"python.txt\", 'r')\n",
    "    file.write(\"Hellp\")\n",
    "    file.close()\n",
    "except:\n",
    "    print(\"Incorrect file mode\")    "
   ]
  }
 ],
 "metadata": {
  "kernelspec": {
   "display_name": "Python 3",
   "language": "python",
   "name": "python3"
  },
  "language_info": {
   "codemirror_mode": {
    "name": "ipython",
    "version": 3
   },
   "file_extension": ".py",
   "mimetype": "text/x-python",
   "name": "python",
   "nbconvert_exporter": "python",
   "pygments_lexer": "ipython3",
   "version": "3.12.4"
  }
 },
 "nbformat": 4,
 "nbformat_minor": 2
}
