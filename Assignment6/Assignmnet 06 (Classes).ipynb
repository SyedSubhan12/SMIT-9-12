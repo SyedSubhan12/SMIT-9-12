{
  "cells": [
    {
      "cell_type": "markdown",
      "metadata": {
        "id": "XLFr4w_7OFN7"
      },
      "source": [
        "1. Write a Python program to create a class representing a Circle. Include methods to calculate its area and perimeter."
      ]
    },
    {
      "cell_type": "code",
      "execution_count": 4,
      "metadata": {},
      "outputs": [
        {
          "data": {
            "text/plain": [
              "'The area for 3 is 28.26'"
            ]
          },
          "execution_count": 4,
          "metadata": {},
          "output_type": "execute_result"
        }
      ],
      "source": [
        "# Add your code here\n",
        "class Circle():\n",
        "    def __init__(self, radius) -> None:\n",
        "        self.radius = radius\n",
        "    def area(self):\n",
        "        return f\"The area for {self.radius} is {3.14 * self.radius**2}\"\n",
        "    \n",
        "    def perimeter(self):\n",
        "        return f\"The perimeter for {self.radius} is  {2 * 3.14 *self.radius}\"\n",
        "    \n",
        "    \n",
        "circle = Circle(3)\n",
        "circle.area()\n",
        "# circle.perimeter()\n",
        "        "
      ]
    },
    {
      "cell_type": "markdown",
      "metadata": {
        "id": "CBPk4mH4OTCO"
      },
      "source": [
        "2. Write a Python program to create a person class. Include attributes like name, country and date of birth. Implement a method to determine the person's age.\n"
      ]
    },
    {
      "cell_type": "code",
      "execution_count": 20,
      "metadata": {},
      "outputs": [
        {
          "data": {
            "text/plain": [
              "'The age of the person is 15 years'"
            ]
          },
          "execution_count": 20,
          "metadata": {},
          "output_type": "execute_result"
        }
      ],
      "source": [
        "# Add your code here\n",
        "class Person():\n",
        "    def __init__(self, name, country, DOB) -> None:\n",
        "        self.name = name\n",
        "        self.country = country\n",
        "        self.DOB = DOB\n",
        "    def Person_age(self):\n",
        "       \n",
        "        x = self.DOB.split('-')\n",
        "        y = 2024 - int(x[-1])\n",
        "        return f\"The age of the person is {y} years\"\n",
        "\n",
        "subhan = Person(\"Syed Subhan Shah\", \"Pakistan\", \"30-10-2009\")\n",
        "subhan.Person_age()\n",
        "        \n",
        "        "
      ]
    },
    {
      "cell_type": "markdown",
      "metadata": {},
      "source": [
        "3. Write a Python program to create a calculator class. Include methods for basic arithmetic operations."
      ]
    },
    {
      "cell_type": "code",
      "execution_count": 23,
      "metadata": {},
      "outputs": [
        {
          "data": {
            "text/plain": [
              "'The Subtraction of the 2 and 3 is -1'"
            ]
          },
          "execution_count": 23,
          "metadata": {},
          "output_type": "execute_result"
        }
      ],
      "source": [
        "# Add your code here\n",
        "class Calculator():\n",
        "    def __init__(self, NO1, NO2) -> None:\n",
        "        self.NO1 = NO1\n",
        "        self.NO2 = NO2\n",
        "    def add(self):\n",
        "        return f\"The Addition of the {self.NO1} and {self.NO2} is {self.NO1 + self.NO2}\"\n",
        "    def subtract(self):\n",
        "        return f\"The Subtraction of the {self.NO1} and {self.NO2} is {self.NO1 - self.NO2}\"\n",
        "    def multiply(self):\n",
        "        return f\"The Product of the {self.NO1} and {self.NO2} is {self.NO1 * self.NO2}\"\n",
        "    def divide(self):\n",
        "        return f\"The Division of the {self.NO1} and {self.NO2} is {self.NO1 / self.NO2}\"       \n",
        "    \n",
        "calc = Calculator(2, 3)\n",
        "calc.multiply()\n",
        "calc.subtract()"
      ]
    },
    {
      "cell_type": "code",
      "execution_count": null,
      "metadata": {},
      "outputs": [],
      "source": []
    }
  ],
  "metadata": {
    "colab": {
      "provenance": []
    },
    "kernelspec": {
      "display_name": "Python 3",
      "name": "python3"
    },
    "language_info": {
      "codemirror_mode": {
        "name": "ipython",
        "version": 3
      },
      "file_extension": ".py",
      "mimetype": "text/x-python",
      "name": "python",
      "nbconvert_exporter": "python",
      "pygments_lexer": "ipython3",
      "version": "3.12.4"
    }
  },
  "nbformat": 4,
  "nbformat_minor": 0
}
