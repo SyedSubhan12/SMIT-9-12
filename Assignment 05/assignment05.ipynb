{
 "cells": [
  {
   "cell_type": "markdown",
   "metadata": {},
   "source": [
    "1. Write a Python program to print the numbers from 1 to 10 using a for loop. "
   ]
  },
  {
   "cell_type": "code",
   "execution_count": 2,
   "metadata": {},
   "outputs": [
    {
     "name": "stdout",
     "output_type": "stream",
     "text": [
      "[1, 2, 3, 4, 5, 6, 7, 8, 9, 10]\n"
     ]
    }
   ],
   "source": [
    "print([x for x in range(1, 11)])"
   ]
  },
  {
   "cell_type": "markdown",
   "metadata": {},
   "source": [
    "2. Write a Python program to print the numbers from 20 to 1 using a while loop."
   ]
  },
  {
   "cell_type": "code",
   "execution_count": 4,
   "metadata": {},
   "outputs": [
    {
     "name": "stdout",
     "output_type": "stream",
     "text": [
      "20\n",
      "19\n",
      "18\n",
      "17\n",
      "16\n",
      "15\n",
      "14\n",
      "13\n",
      "12\n",
      "11\n",
      "10\n",
      "9\n",
      "8\n",
      "7\n",
      "6\n",
      "5\n",
      "4\n",
      "3\n",
      "2\n",
      "1\n"
     ]
    }
   ],
   "source": [
    "i = 20\n",
    "while i != 0:\n",
    "    print(i)\n",
    "    i -=1"
   ]
  },
  {
   "cell_type": "markdown",
   "metadata": {},
   "source": [
    "3. Write a program to print even numbers from 1 to 10."
   ]
  },
  {
   "cell_type": "code",
   "execution_count": 9,
   "metadata": {},
   "outputs": [
    {
     "name": "stdout",
     "output_type": "stream",
     "text": [
      "[0, 2, 4, 6, 8, 10]\n"
     ]
    }
   ],
   "source": [
    "print([x for x in range(0, 12,2 )])"
   ]
  },
  {
   "cell_type": "markdown",
   "metadata": {},
   "source": [
    "4. Write a program that prompts the user to enter a number n and prints all the \n",
    "numbers from 1 to n.   "
   ]
  },
  {
   "cell_type": "code",
   "execution_count": 12,
   "metadata": {},
   "outputs": [
    {
     "name": "stdout",
     "output_type": "stream",
     "text": [
      "[1, 2, 3, 4]\n"
     ]
    }
   ],
   "source": [
    "x = int(input(\"Enter the number: \"))\n",
    "print([y  for y in range(1, x+1)])"
   ]
  },
  {
   "cell_type": "markdown",
   "metadata": {},
   "source": [
    "5. Write a program that prompts the user to enter a number n, and then prints all the \n",
    "odd numbers between 1 and n. "
   ]
  },
  {
   "cell_type": "code",
   "execution_count": 13,
   "metadata": {},
   "outputs": [
    {
     "name": "stdout",
     "output_type": "stream",
     "text": [
      "[1, 3, 5, 7, 9]\n"
     ]
    }
   ],
   "source": [
    "x = int(input(\"Enter the number: \"))\n",
    "print([y for y in range(1, x, 2)])"
   ]
  },
  {
   "cell_type": "markdown",
   "metadata": {},
   "source": [
    "6. Write a program that prints 'Happy Birthday!' five times on screen."
   ]
  },
  {
   "cell_type": "code",
   "execution_count": 18,
   "metadata": {},
   "outputs": [
    {
     "name": "stdout",
     "output_type": "stream",
     "text": [
      "['Happy BirthDay!', 'Happy BirthDay!', 'Happy BirthDay!', 'Happy BirthDay!', 'Happy BirthDay!']\n"
     ]
    }
   ],
   "source": [
    "print(['Happy BirthDay!' for x in range(5) ])\n"
   ]
  },
  {
   "cell_type": "markdown",
   "metadata": {},
   "source": [
    "7. Write a program that takes a number n as input from the user and generates the first \n",
    "n terms of the series formed by squaring the natural numbers."
   ]
  },
  {
   "cell_type": "code",
   "execution_count": 19,
   "metadata": {},
   "outputs": [
    {
     "name": "stdout",
     "output_type": "stream",
     "text": [
      "The first 4 terms of the series are:\n",
      "1 4 9 16\n"
     ]
    }
   ],
   "source": [
    "def generate_squares(n):\n",
    "    \"\"\"Generate the first n terms of the series formed by squaring natural numbers.\"\"\"\n",
    "    return [i**2 for i in range(1, n+1)]\n",
    "\n",
    "def main():\n",
    "    try:\n",
    "        n = int(input(\"Enter a number: \"))\n",
    "        if n > 0:\n",
    "            terms = generate_squares(n)\n",
    "            print(f\"The first {n} terms of the series are:\")\n",
    "            print(\" \".join(map(str, terms)))\n",
    "        else:\n",
    "            print(\"Please enter a positive integer.\")\n",
    "    except ValueError:\n",
    "        print(\"Invalid input. Please enter a valid integer.\")\n",
    "\n",
    "if __name__ == \"__main__\":\n",
    "    main()\n"
   ]
  },
  {
   "cell_type": "markdown",
   "metadata": {},
   "source": [
    "8. Write a program that prompts the user to input a number and prints its multiplication \n",
    "table"
   ]
  },
  {
   "cell_type": "code",
   "execution_count": 22,
   "metadata": {},
   "outputs": [
    {
     "name": "stdout",
     "output_type": "stream",
     "text": [
      "4 x 0 = 0\n",
      "4 x 1 = 4\n",
      "4 x 2 = 8\n",
      "4 x 3 = 12\n",
      "4 x 4 = 16\n",
      "4 x 5 = 20\n",
      "4 x 6 = 24\n",
      "4 x 7 = 28\n",
      "4 x 8 = 32\n",
      "4 x 9 = 36\n",
      "4 x 10 = 40\n"
     ]
    }
   ],
   "source": [
    "int_input = int(input(\"Enter the number: \"))\n",
    "i = 1\n",
    "results = [f\"{int_input} x {i} = {int_input * i}\" for i in range(11)]\n",
    "print(\"\\n\".join(results))"
   ]
  },
  {
   "cell_type": "markdown",
   "metadata": {},
   "source": [
    "9. Write a Python program to print the first 8 terms of an arithmetic progression starting \n",
    "with 3 and having a common difference of 4. \n",
    "The program should output the following sequence: \n",
    "3 7 11 15 19 23 27 31 "
   ]
  },
  {
   "cell_type": "code",
   "execution_count": 23,
   "metadata": {},
   "outputs": [
    {
     "name": "stdout",
     "output_type": "stream",
     "text": [
      "3\n",
      "7\n",
      "11\n",
      "15\n",
      "19\n",
      "23\n"
     ]
    }
   ],
   "source": [
    "i = 3*8\n",
    "for i in range(3, i , 4):\n",
    "    print(i)"
   ]
  },
  {
   "cell_type": "markdown",
   "metadata": {},
   "source": [
    "10. Write a Python program to print the first 6 terms of a geometric sequence starting \n",
    "with 2 and having a common ratio of 3. \n",
    "The program should output the following sequence: \n",
    "2 6 18 54 162 486"
   ]
  },
  {
   "cell_type": "code",
   "execution_count": 24,
   "metadata": {},
   "outputs": [
    {
     "name": "stdout",
     "output_type": "stream",
     "text": [
      "2 6 18 54 162 486\n"
     ]
    }
   ],
   "source": [
    "def print_geometric_sequence(start, ratio, n_terms):\n",
    "    \"\"\"Prints the first n_terms of a geometric sequence.\"\"\"\n",
    "    term = start\n",
    "    sequence = []\n",
    "    for _ in range(n_terms):\n",
    "        sequence.append(term)\n",
    "        term *= ratio\n",
    "    print(\" \".join(map(str, sequence)))\n",
    "\n",
    "def main():\n",
    "    start = 2\n",
    "    ratio = 3\n",
    "    n_terms = 6\n",
    "    print_geometric_sequence(start, ratio, n_terms)\n",
    "\n",
    "if __name__ == \"__main__\":\n",
    "    main()\n"
   ]
  },
  {
   "cell_type": "markdown",
   "metadata": {},
   "source": [
    "11. Write a program that asks the user for a positive integer value. The program should \n",
    "calculate the sum of all the integers from 1 up to the number entered. For example, if \n",
    "the user enters 20, the loop will find the sum of 1, 2, 3, 4, ... 20. "
   ]
  },
  {
   "cell_type": "code",
   "execution_count": 34,
   "metadata": {},
   "outputs": [
    {
     "name": "stdout",
     "output_type": "stream",
     "text": [
      "The sum of all integers from 1 to 20 is: 210\n"
     ]
    }
   ],
   "source": [
    "def calculate_sum(n):\n",
    "    \"\"\"Calculate the sum of all integers from 1 up to n.\"\"\"\n",
    "    total_sum = 0\n",
    "    for i in range(1, n + 1):\n",
    "        total_sum += i\n",
    "    return total_sum\n",
    "\n",
    "def main():\n",
    "    try:\n",
    "        n = int(input(\"Enter a positive integer: \"))\n",
    "        if n > 0:\n",
    "            result = calculate_sum(n)\n",
    "            print(f\"The sum of all integers from 1 to {n} is: {result}\")\n",
    "        else:\n",
    "            print(\"Please enter a positive integer.\")\n",
    "    except ValueError:\n",
    "        print(\"Invalid input. Please enter a valid integer.\")\n",
    "\n",
    "if __name__ == \"__main__\":\n",
    "    main()\n",
    "\n",
    "\n",
    "\n",
    "    "
   ]
  },
  {
   "cell_type": "code",
   "execution_count": 35,
   "metadata": {},
   "outputs": [
    {
     "name": "stdout",
     "output_type": "stream",
     "text": [
      "The sum of reciprocals from 1 to 4 is: 2.08\n"
     ]
    }
   ],
   "source": [
    "def sum_of_reciprocals(n):\n",
    "    \"\"\"Calculate the sum of the reciprocals of all numbers from 1 to n.\"\"\"\n",
    "    total_sum = 0.0\n",
    "    for i in range(1, n + 1):\n",
    "        total_sum += 1 / i\n",
    "    return total_sum\n",
    "\n",
    "def main():\n",
    "    try:\n",
    "        n = int(input(\"Enter a positive integer: \"))\n",
    "        if n > 0:\n",
    "            result = sum_of_reciprocals(n)\n",
    "            print(f\"The sum of reciprocals from 1 to {n} is: {result:.2f}\")\n",
    "        else:\n",
    "            print(\"Please enter a positive integer.\")\n",
    "    except ValueError:\n",
    "        print(\"Invalid input. Please enter a valid integer.\")\n",
    "\n",
    "if __name__ == \"__main__\":\n",
    "    main()\n"
   ]
  },
  {
   "cell_type": "markdown",
   "metadata": {},
   "source": [
    "13. Write a program that prompts the user to enter a number and repeats this process 5 \n",
    "times. The program should accumulate the numbers entered and then display the final \n",
    "running total. "
   ]
  },
  {
   "cell_type": "code",
   "execution_count": 5,
   "metadata": {},
   "outputs": [
    {
     "name": "stdout",
     "output_type": "stream",
     "text": [
      "15\n"
     ]
    }
   ],
   "source": [
    "\n",
    "i = 0\n",
    "while i != 5:\n",
    "    n = int(input(\"Enter the number: \"))\n",
    "    i+=1\n",
    "    total_sum = 0\n",
    "    for i in range(1, n + 1):\n",
    "        total_sum += i\n",
    "    \n",
    "print(total_sum)\n"
   ]
  },
  {
   "cell_type": "markdown",
   "metadata": {},
   "source": [
    "14. Write a program that prompts the user to enter a positive integer and calculates its \n",
    "factorial. The factorial of a positive integer 'n' is denoted as 'n!' and is calculated by \n",
    "multiplying all the integers from 1 to 'n' together. For example, the factorial of 5 \n",
    "(denoted as 5!) is calculated as 1 x 2 x 3 x 4 x 5. \n",
    "The program should display the factorial value if the input is a positive number, or \n",
    "display a message stating that the factorial does not exist for negative numbers. \n",
    "Additionally, for an input of zero, the program should output that the factorial of 0 is 1."
   ]
  },
  {
   "cell_type": "code",
   "execution_count": 10,
   "metadata": {},
   "outputs": [
    {
     "name": "stdout",
     "output_type": "stream",
     "text": [
      "120\n"
     ]
    }
   ],
   "source": [
    "import math\n",
    "n = int(input(\"Enter the number: \"))\n",
    "if n <= 0:\n",
    "    print(F\"{n}  could not be the factorial\")\n",
    "else:\n",
    "    c = math.factorial(n)\n",
    "    print(c)\n",
    "    \n",
    "         "
   ]
  },
  {
   "cell_type": "markdown",
   "metadata": {},
   "source": [
    "15. Write a Python program that prompts the user to enter a base number and an \n",
    "exponent, and then calculates the power of the base to the exponent. The program \n",
    "should not use the exponentiation operator (**) or the math.pow() function. The \n",
    "program should handle both positive and negative exponents.   \n",
    " "
   ]
  },
  {
   "cell_type": "code",
   "execution_count": 13,
   "metadata": {},
   "outputs": [
    {
     "name": "stdout",
     "output_type": "stream",
     "text": [
      "2.0 raised to the power of 2 is 4.0\n"
     ]
    }
   ],
   "source": [
    "def power(base, exponent):\n",
    "    result = 1\n",
    "    abs_exponent = abs(exponent)\n",
    "    \n",
    "    for _ in range(abs_exponent):\n",
    "        result *=base\n",
    "    \n",
    "    if exponent < 0:\n",
    "        result = 1 / result\n",
    "    \n",
    "    return result\n",
    "def main():\n",
    "    base = float(input(\"Enter the base number: \"))\n",
    "    exponent = int(input(\"Enter the exponent: \"))\n",
    "    \n",
    "    result = power(base, exponent) \n",
    "    print(f\"{base} raised to the power of {exponent} is {result}\")\n",
    "\n",
    "if __name__ == \"__main__\":\n",
    "    main()           "
   ]
  }
 ],
 "metadata": {
  "kernelspec": {
   "display_name": "Python 3",
   "language": "python",
   "name": "python3"
  },
  "language_info": {
   "codemirror_mode": {
    "name": "ipython",
    "version": 3
   },
   "file_extension": ".py",
   "mimetype": "text/x-python",
   "name": "python",
   "nbconvert_exporter": "python",
   "pygments_lexer": "ipython3",
   "version": "3.12.4"
  }
 },
 "nbformat": 4,
 "nbformat_minor": 2
}
