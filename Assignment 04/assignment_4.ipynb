{
 "cells": [
  {
   "cell_type": "markdown",
   "metadata": {},
   "source": [
    "1. Write a program that accepts a list from user and print the alternate element of list. "
   ]
  },
  {
   "cell_type": "code",
   "execution_count": 1,
   "metadata": {},
   "outputs": [
    {
     "name": "stdout",
     "output_type": "stream",
     "text": [
      "Alternate elements: 2, 4, 6\n"
     ]
    }
   ],
   "source": [
    "def main():\n",
    "    lst = input(\"Enter elements separated by commas: \").split(',')\n",
    "    if lst:\n",
    "        print(\"Alternate elements:\", ', '.join(lst[i].strip() for i in range(0, len(lst), 2)))\n",
    "\n",
    "if __name__ == \"__main__\":\n",
    "    main()\n"
   ]
  },
  {
   "cell_type": "markdown",
   "metadata": {},
   "source": [
    "2. Write a program that accepts a list from user. Your program should reverse the content of list and \n",
    "display it. Do not use reverse() method"
   ]
  },
  {
   "cell_type": "code",
   "execution_count": 8,
   "metadata": {},
   "outputs": [
    {
     "name": "stdout",
     "output_type": "stream",
     "text": [
      "Reverse list:  6,5,4,3,2\n"
     ]
    }
   ],
   "source": [
    "lst = input(\"Enter the list: \")\n",
    "if lst:\n",
    "    print(\"Reverse list: \",''.join(lst[::-1].strip()))"
   ]
  },
  {
   "cell_type": "markdown",
   "metadata": {},
   "source": [
    "3. Find and display the largest number of a list without using built-in function max(). Your program \n",
    "should ask the user to input values in list from keyboard. "
   ]
  },
  {
   "cell_type": "code",
   "execution_count": 12,
   "metadata": {},
   "outputs": [
    {
     "name": "stdout",
     "output_type": "stream",
     "text": [
      "The largest number is: 5\n"
     ]
    }
   ],
   "source": [
    "def main():\n",
    "    try:\n",
    "        numbers = [int(x.strip()) for x in input(\"Enter numbers separated by commas: \").split(',')]\n",
    "        if numbers:\n",
    "            largest = numbers[0]\n",
    "            for num in numbers:\n",
    "                if num > largest:\n",
    "                    largest = num\n",
    "            print(f\"The largest number is: {largest}\")\n",
    "        else:\n",
    "            print(\"The list is empty.\")\n",
    "    except ValueError:\n",
    "        print(\"Please enter valid integers.\")\n",
    "\n",
    "if __name__ == \"__main__\":\n",
    "    main()\n"
   ]
  },
  {
   "cell_type": "markdown",
   "metadata": {},
   "source": [
    "4. Write a program that rotates the element of a list so that the element at the first index moves to the \n",
    "second index, the element in the second index moves to the third index, etc., and the element in the last \n",
    "index moves to the first index. "
   ]
  },
  {
   "cell_type": "code",
   "execution_count": 14,
   "metadata": {},
   "outputs": [
    {
     "name": "stdout",
     "output_type": "stream",
     "text": [
      "Rotated list: ['4', '5', '6', '6', '3']\n"
     ]
    }
   ],
   "source": [
    "def rotate_list(lst):\n",
    "    \"\"\"Rotate the list elements.\"\"\"\n",
    "    if lst:\n",
    "        lst.append(lst.pop(0))\n",
    "    return lst\n",
    "        \n",
    "\n",
    "def main():\n",
    "    user_input = input(\"Enter the list: \").split(',')\n",
    "    elements = [x.strip() for x in user_input]\n",
    "    rotated = rotate_list(elements)\n",
    "    print(\"Rotated list:\", rotated)\n",
    "\n",
    "if __name__ == \"__main__\":\n",
    "    main()\n"
   ]
  },
  {
   "cell_type": "markdown",
   "metadata": {},
   "source": [
    "5. Write a program that input a string and ask user to delete a given word from a string.  "
   ]
  },
  {
   "cell_type": "code",
   "execution_count": 15,
   "metadata": {},
   "outputs": [
    {
     "name": "stdout",
     "output_type": "stream",
     "text": [
      "['hello', 'class', 'seeming']\n"
     ]
    }
   ],
   "source": [
    "str_input = [\"hello\", \"room\", \"class\",\"seeming\"]\n",
    "if str_input:\n",
    "    str_delete = input(\"Tell me which word do you want to delete: \")\n",
    "    if str_delete in str_input:\n",
    "        str_input.remove(str_delete)\n",
    "\n",
    "print(str_input)        \n",
    "    "
   ]
  },
  {
   "cell_type": "markdown",
   "metadata": {},
   "source": [
    " 6. Write a program that reads a string from the user containing a date in the form mm/dd/yyyy. It \n",
    "should print the date in the form March 12, 2021. "
   ]
  },
  {
   "cell_type": "code",
   "execution_count": 20,
   "metadata": {},
   "outputs": [
    {
     "name": "stdout",
     "output_type": "stream",
     "text": [
      "Formatted date: March 12, 2021\n"
     ]
    }
   ],
   "source": [
    "from datetime import datetime\n",
    "\n",
    "def format_date(date_str):\n",
    "    \"\"\"Convert date from mm/dd/yyyy to Month day, year.\"\"\"\n",
    "    try:\n",
    "        date_obj = datetime.strptime(date_str, \"%m/%d/%Y\")\n",
    "        return date_obj.strftime(\"%B %d, %Y\")\n",
    "    except ValueError:\n",
    "        return \"Invalid date format. Use mm/dd/yyyy.\"\n",
    "\n",
    "def main():\n",
    "    date_input = input(\"Enter a date (mm/dd/yyyy): \")\n",
    "    formatted_date = format_date(date_input)\n",
    "    print(\"Formatted date:\", formatted_date)\n",
    "\n",
    "if __name__ == \"__main__\":\n",
    "    main()\n"
   ]
  },
  {
   "cell_type": "markdown",
   "metadata": {},
   "source": [
    " 7. Write a program with a function that accepts a string from keyboard and create a new string after \n",
    "converting character of each word capitalized. For instance, if the sentence is \"stop and smell the roses.\" \n",
    "the output should be \"Stop And Smell The Roses\" "
   ]
  },
  {
   "cell_type": "code",
   "execution_count": 21,
   "metadata": {},
   "outputs": [
    {
     "name": "stdout",
     "output_type": "stream",
     "text": [
      "Syed Subhan Shah Is My Name\n"
     ]
    }
   ],
   "source": [
    "\n",
    "str_input  = input(\"Enter the scetence: \")\n",
    "x = str_input.title()\n",
    "print(x)"
   ]
  },
  {
   "cell_type": "markdown",
   "metadata": {},
   "source": [
    "8. Find the sum of each row of matrix of size m x n. For example for the following matrix output will be \n",
    "like this : \n",
    " \n",
    "Sum of row 1 = 32 \n",
    "Sum of row 2 = 31 \n",
    "Sum of row 3 = 63 \n",
    "9. Write a program to add two matrices of size n x m. \n",
    "10. Write a program to multiply two matrices \n",
    " "
   ]
  },
  {
   "cell_type": "code",
   "execution_count": 22,
   "metadata": {},
   "outputs": [
    {
     "name": "stdout",
     "output_type": "stream",
     "text": [
      "Result using numpy.add:\n",
      "[[ 6  8]\n",
      " [10 12]]\n",
      "Result of multiplication: [[19 22]\n",
      " [43 50]]\n"
     ]
    }
   ],
   "source": [
    "import numpy as np\n",
    "\n",
    "def add_matrices(matrix1, matrix2):\n",
    "    \"\"\"Add two matrices using numpy.add.\"\"\"\n",
    "    return np.add(matrix1, matrix2)\n",
    "def multiply(matrix1, matrix2):\n",
    "    \"\"\"Multipy two matrices\"\"\"\n",
    "    return matrix1 @ matrix2\n",
    "# Example usage\n",
    "matrix1 = np.array([[1, 2], [3, 4]])\n",
    "matrix2 = np.array([[5, 6], [7, 8]])\n",
    "\n",
    "result = add_matrices(matrix1, matrix2)\n",
    "result2 = multiply(matrix1, matrix2)\n",
    "print(\"Result using numpy.add:\")\n",
    "print(result)\n",
    "print(f\"Result of multiplication: {result2}\")\n"
   ]
  }
 ],
 "metadata": {
  "kernelspec": {
   "display_name": "Python 3",
   "language": "python",
   "name": "python3"
  },
  "language_info": {
   "codemirror_mode": {
    "name": "ipython",
    "version": 3
   },
   "file_extension": ".py",
   "mimetype": "text/x-python",
   "name": "python",
   "nbconvert_exporter": "python",
   "pygments_lexer": "ipython3",
   "version": "3.12.4"
  }
 },
 "nbformat": 4,
 "nbformat_minor": 2
}
