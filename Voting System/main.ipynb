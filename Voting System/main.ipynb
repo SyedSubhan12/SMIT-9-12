{
 "cells": [
  {
   "cell_type": "code",
   "execution_count": 3,
   "metadata": {},
   "outputs": [
    {
     "name": "stdout",
     "output_type": "stream",
     "text": [
      "--------------------------------\n",
      "        Voting System\n",
      "--------------------------------\n",
      "\n",
      "Nominees:\n",
      "1: Candidate A\n",
      "2: Candidate B\n",
      "3: Candidate C\n",
      "Vote recorded successfully!\n",
      "\n",
      "Nominees:\n",
      "1: Candidate A\n",
      "2: Candidate B\n",
      "3: Candidate C\n",
      "Vote recorded successfully!\n",
      "\n",
      "Voting Results:\n",
      "Candidate A: 1 votes\n",
      "Candidate B: 1 votes\n",
      "Candidate C: 0 votes\n"
     ]
    }
   ],
   "source": [
    "def main():\n",
    "    candidates = {\n",
    "        1: \"Candidate A\",\n",
    "        2: \"Candidate B\",\n",
    "        3: \"Candidate C\"\n",
    "    }\n",
    "\n",
    "    num_voters = int(input(\"Enter the number of voters: \"))\n",
    "    votes = {candidate: 0 for candidate in candidates}\n",
    "\n",
    "    for _ in range(num_voters):\n",
    "        print(\"\\nNominees:\")\n",
    "        for num, name in candidates.items():\n",
    "            print(f\"{num}: {name}\")\n",
    "\n",
    "        vote = int(input(\"Enter your vote (1, 2, or 3): \"))\n",
    "        while vote not in candidates:\n",
    "            print(\"Invalid vote. Please choose a valid candidate.\")\n",
    "            vote = int(input(\"Enter your vote (1, 2, or 3): \"))\n",
    "\n",
    "        votes[vote] += 1\n",
    "        print(\"Vote recorded successfully!\")\n",
    "\n",
    "    print(\"\\nVoting Results:\")\n",
    "    for num, name in candidates.items():\n",
    "        print(f\"{name}: {votes[num]} votes\")\n",
    "\n",
    "    # Identify winners based on vote counts (you can customize this part)\n",
    "\n",
    "print(\"--------------------------------\")\n",
    "print(\"        Voting System\")\n",
    "print(\"--------------------------------\")\n",
    "if __name__ == \"__main__\":\n",
    "    main()\n",
    "    "
   ]
  }
 ],
 "metadata": {
  "kernelspec": {
   "display_name": "Python 3",
   "language": "python",
   "name": "python3"
  },
  "language_info": {
   "codemirror_mode": {
    "name": "ipython",
    "version": 3
   },
   "file_extension": ".py",
   "mimetype": "text/x-python",
   "name": "python",
   "nbconvert_exporter": "python",
   "pygments_lexer": "ipython3",
   "version": "3.12.4"
  }
 },
 "nbformat": 4,
 "nbformat_minor": 2
}
