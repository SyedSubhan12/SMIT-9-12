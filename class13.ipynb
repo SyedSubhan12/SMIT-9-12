{
 "cells": [
  {
   "cell_type": "markdown",
   "metadata": {},
   "source": [
    "# Inheritane\n"
   ]
  },
  {
   "cell_type": "code",
   "execution_count": 1,
   "metadata": {},
   "outputs": [],
   "source": [
    "class Father:\n",
    "    def __init__(self, eye_color) -> None:\n",
    "        self.eye_color = eye_color\n",
    "\n",
    "    def speak(self):\n",
    "        print(\"Can speak\")\n",
    "\n",
    "class Mother:\n",
    "    def __init__(self, skin_color) -> None:\n",
    "        self.skin_color = skin_color\n",
    "\n",
    "    def teach(self):\n",
    "        print(\"Yes, I can teach my child\")\n",
    "\n",
    "class Child(Father, Mother):\n",
    "    def __init__(self, eye_color, skin_color, child_name) -> None:\n",
    "        Father.__init__(self, eye_color)         \n",
    "        Mother.__init__(self, skin_color)\n",
    "        self.child_name = child_name\n"
   ]
  },
  {
   "cell_type": "code",
   "execution_count": 2,
   "metadata": {},
   "outputs": [
    {
     "name": "stdout",
     "output_type": "stream",
     "text": [
      "subhan\n"
     ]
    }
   ],
   "source": [
    "child = Child(\"brown\", \"brown\", 'subhan')\n",
    "print(child.child_name)"
   ]
  },
  {
   "cell_type": "markdown",
   "metadata": {},
   "source": [
    "# Abstraction"
   ]
  },
  {
   "cell_type": "markdown",
   "metadata": {},
   "source": [
    "The concept of hiding the complexity while exposing the necessary parts. It helps to simplify the programming complexity anfd effort."
   ]
  },
  {
   "cell_type": "code",
   "execution_count": 3,
   "metadata": {},
   "outputs": [],
   "source": [
    "# abstract class\n",
    "class shapes():\n",
    "    \n",
    "    #abstract method\n",
    "    def sides(self):\n",
    "        pass"
   ]
  },
  {
   "cell_type": "code",
   "execution_count": 4,
   "metadata": {},
   "outputs": [],
   "source": [
    "#actual subclass\n",
    "class triangle(shapes):\n",
    "    def sides(self):\n",
    "        print(\"Triangle has 3 sides\")"
   ]
  },
  {
   "cell_type": "code",
   "execution_count": 7,
   "metadata": {},
   "outputs": [
    {
     "name": "stdout",
     "output_type": "stream",
     "text": [
      "Triangle has 3 sides\n"
     ]
    }
   ],
   "source": [
    "tri = triangle()\n",
    "tri.sides()"
   ]
  },
  {
   "cell_type": "code",
   "execution_count": 8,
   "metadata": {},
   "outputs": [],
   "source": [
    "class square(shapes):\n",
    "    def sides(self):\n",
    "        print(\"The square has 2 equal sides\")"
   ]
  },
  {
   "cell_type": "code",
   "execution_count": 9,
   "metadata": {},
   "outputs": [
    {
     "name": "stdout",
     "output_type": "stream",
     "text": [
      "The square has 2 equal sides\n"
     ]
    }
   ],
   "source": [
    "squar = square()\n",
    "squar.sides()"
   ]
  },
  {
   "cell_type": "markdown",
   "metadata": {},
   "source": [
    "# Overloading\n",
    "\n"
   ]
  },
  {
   "cell_type": "markdown",
   "metadata": {},
   "source": [
    "Imagine you have a class that needs to calculate the area of different shapes. You might want to calculate the area of a square, rectangle, and circle. Instead of creating three different methods like area_of_square, area_of_rectangle, and area_of_circle, you can use method overloading."
   ]
  },
  {
   "cell_type": "code",
   "execution_count": 10,
   "metadata": {},
   "outputs": [],
   "source": [
    "class Shapes():\n",
    "    def area(self, a=None, b=None):\n",
    "        if a is not None and b is None:\n",
    "            #Area of square\n",
    "            return a*a\n",
    "        elif a is not None and b is not None:\n",
    "            #area of rectangle\n",
    "            return a * b\n",
    "        else:\n",
    "            #no parameters passed\n",
    "            return \"Invalid parameter\""
   ]
  },
  {
   "cell_type": "code",
   "execution_count": 11,
   "metadata": {},
   "outputs": [
    {
     "name": "stdout",
     "output_type": "stream",
     "text": [
      "Area of square: 25\n",
      "Area of rectangle: 50\n"
     ]
    }
   ],
   "source": [
    "shape = Shapes()\n",
    "\n",
    "#Calculate the area of a square\n",
    "print(\"Area of square:\", shape.area(5))  # Output: Area of square: 25\n",
    "\n",
    "# Calculate the area of a rectangle\n",
    "print(\"Area of rectangle:\", shape.area(5, 10))  # Output: Area of rectangle: 50"
   ]
  },
  {
   "cell_type": "code",
   "execution_count": 15,
   "metadata": {},
   "outputs": [
    {
     "name": "stdout",
     "output_type": "stream",
     "text": [
      "3\n",
      "4.0\n",
      "helloworld\n",
      "7j\n"
     ]
    }
   ],
   "source": [
    "from typing import overload\n",
    "\n",
    "class Adder:\n",
    "    @overload\n",
    "    def add(self, x: int, y: int) -> int:\n",
    "        ...\n",
    "        \n",
    "    @overload\n",
    "    def add(self, x: float, y: float) -> float:\n",
    "        ...\n",
    "        \n",
    "    @overload\n",
    "    def add(self, x: str, y: str) -> str:\n",
    "        ...\n",
    "    \n",
    "    @overload\n",
    "    def add(self, x: complex, y: complex) -> complex:\n",
    "        ...    \n",
    "        \n",
    "    \n",
    "    def add(self, x, y):\n",
    "        if isinstance(x, int) and isinstance(y, int):\n",
    "            return x + y\n",
    "        elif isinstance(x, float) and isinstance(y, float):\n",
    "            return x + y\n",
    "        elif isinstance(x, str) and isinstance(y, str):\n",
    "            return x + y\n",
    "        elif isinstance(x, complex) and isinstance(y, complex):\n",
    "            return x + y\n",
    "        \n",
    "        else:\n",
    "            raise TypeError(\"Invalid argument types!\")\n",
    "\n",
    "# Usage examples\n",
    "adder = Adder()\n",
    "result1 = adder.add(1, 2)  # Should return 3\n",
    "result2 = adder.add(1.5, 2.5)  # Should return 4.0\n",
    "result3 = adder.add('hello', \"world\")  # Should return \"Hello, world!\"\n",
    "result4 = adder.add(3j, 4j)\n",
    "\n",
    "\n",
    "# Overridding & polymorphism\n",
    "print(result1)\n",
    "print(result2)\n",
    "print(result3)\n",
    "print(result4)"
   ]
  },
  {
   "cell_type": "markdown",
   "metadata": {},
   "source": [
    "# Overriding"
   ]
  },
  {
   "cell_type": "code",
   "execution_count": 16,
   "metadata": {},
   "outputs": [
    {
     "name": "stdout",
     "output_type": "stream",
     "text": [
      "Bird is eating bread\n"
     ]
    }
   ],
   "source": [
    "class Animal():\n",
    "    def eating(self,food): #same method \n",
    "        print(f\"Animal is eating {food}\")\n",
    "\n",
    "class Bird(Animal):\n",
    "    def eating(self, food):\n",
    "        print(f\"Bird is eating {food}\")\n",
    "bird = Bird()\n",
    "bird.eating(\"bread\")"
   ]
  },
  {
   "cell_type": "markdown",
   "metadata": {},
   "source": [
    "# Polymorphism\n"
   ]
  },
  {
   "cell_type": "code",
   "execution_count": 18,
   "metadata": {},
   "outputs": [
    {
     "name": "stdout",
     "output_type": "stream",
     "text": [
      "Bird is eating grass\n"
     ]
    }
   ],
   "source": [
    "animal = Bird()\n",
    "animal.eating(\"grass\")"
   ]
  },
  {
   "cell_type": "markdown",
   "metadata": {},
   "source": [
    "# Example "
   ]
  },
  {
   "cell_type": "code",
   "execution_count": 20,
   "metadata": {},
   "outputs": [],
   "source": [
    "class Shape():\n",
    "    def area(self):\n",
    "        pass\n",
    "\n",
    "class Circle(Shape):\n",
    "    def __init__(self, radius) -> None:\n",
    "        self.radius   = radius\n",
    "    def area(self):\n",
    "        return 3.14 * self.radius ** 2\n",
    "class Square(Shape):\n",
    "    def __init__(self, length) -> None:\n",
    "        self.length = length\n",
    "    def area(self) :\n",
    "        return self.length * 2\n",
    "       \n",
    "          "
   ]
  },
  {
   "cell_type": "code",
   "execution_count": 22,
   "metadata": {},
   "outputs": [
    {
     "data": {
      "text/plain": [
       "28.26"
      ]
     },
     "execution_count": 22,
     "metadata": {},
     "output_type": "execute_result"
    }
   ],
   "source": [
    "chape = Circle(3)\n",
    "chape.area()\n"
   ]
  },
  {
   "cell_type": "markdown",
   "metadata": {},
   "source": [
    "# Polymorphism Examples\n"
   ]
  },
  {
   "cell_type": "code",
   "execution_count": 33,
   "metadata": {},
   "outputs": [],
   "source": [
    "class Animal():\n",
    "    def speak(self):\n",
    "        pass\n",
    "\n",
    "class Dog(Animal):\n",
    "    def speak(self):\n",
    "        return \"boo\"   \n",
    "class Cat(Animal):\n",
    "    def speak(self):\n",
    "        return \"Meow\"        \n",
    "    "
   ]
  },
  {
   "cell_type": "code",
   "execution_count": 34,
   "metadata": {},
   "outputs": [
    {
     "name": "stdout",
     "output_type": "stream",
     "text": [
      "Meow\n"
     ]
    }
   ],
   "source": [
    "cat = Cat()\n",
    "print(cat.speak())"
   ]
  },
  {
   "cell_type": "markdown",
   "metadata": {},
   "source": [
    "# Encapsulation"
   ]
  },
  {
   "cell_type": "code",
   "execution_count": 35,
   "metadata": {},
   "outputs": [],
   "source": [
    "class saylani():\n",
    "    def __init__(self) -> None:\n",
    "        self.helpline = \"786\"\n",
    "        self._batch = \"python\" \n",
    "        self.__result = '70'\n",
    " \n",
    "        \n",
    "    \n",
    "        "
   ]
  },
  {
   "cell_type": "code",
   "execution_count": 38,
   "metadata": {},
   "outputs": [
    {
     "data": {
      "text/plain": [
       "'435'"
      ]
     },
     "execution_count": 38,
     "metadata": {},
     "output_type": "execute_result"
    }
   ],
   "source": [
    "s = saylani()\n",
    "s.helpline = '435'\n",
    "s.helpline\n"
   ]
  },
  {
   "cell_type": "code",
   "execution_count": 39,
   "metadata": {},
   "outputs": [
    {
     "data": {
      "text/plain": [
       "'class'"
      ]
     },
     "execution_count": 39,
     "metadata": {},
     "output_type": "execute_result"
    }
   ],
   "source": [
    "s._batch = 'class'\n",
    "s._batch"
   ]
  },
  {
   "cell_type": "code",
   "execution_count": 41,
   "metadata": {},
   "outputs": [
    {
     "data": {
      "text/plain": [
       "'60'"
      ]
     },
     "execution_count": 41,
     "metadata": {},
     "output_type": "execute_result"
    }
   ],
   "source": [
    "s._saylani__result = '60'\n",
    "s._saylani__result"
   ]
  },
  {
   "cell_type": "markdown",
   "metadata": {},
   "source": [
    "# Task"
   ]
  },
  {
   "cell_type": "code",
   "execution_count": 50,
   "metadata": {},
   "outputs": [],
   "source": [
    "class StudentLogin():\n",
    "    def __init__(self) -> None:\n",
    "        self.__user_name = \"Syed Subhan\"\n",
    "        self.__password = \"Subhan@2024\"\n",
    "    def __private_method(self):\n",
    "        if self.__user_name == expect_name  and self.__password == expect_pass:\n",
    "            print(\"Valid User name\")\n",
    "        else:\n",
    "            print(\"The user name and password is nt correct\")\n",
    "    def update_pass(self):\n",
    "        update = input(\"Enter your new password\")\n",
    "        self._Studentlogin__password = update\n",
    "        return update  \n",
    "    def login(self, expect_name, expect_pass):\n",
    "        return self.__private_method()\n",
    "       \n",
    "            \n",
    "        "
   ]
  },
  {
   "cell_type": "code",
   "execution_count": 51,
   "metadata": {},
   "outputs": [
    {
     "name": "stdout",
     "output_type": "stream",
     "text": [
      "The user name and password is nt correct\n"
     ]
    }
   ],
   "source": [
    "expect_name= input(\"Enter the name: \")\n",
    "expect_pass = input(\"Enter the password: \")\n",
    "login = StudentLogin()\n",
    "login.login(expect_name, expect_pass)"
   ]
  },
  {
   "cell_type": "markdown",
   "metadata": {},
   "source": [
    "# User Authentication System"
   ]
  },
  {
   "cell_type": "code",
   "execution_count": null,
   "metadata": {},
   "outputs": [],
   "source": [
    "class Authentication():\n",
    "    def __init__(self) -> None:\n",
    "        self.username = \"Syed Subhan\"\n",
    "        self.__password = \"Subahn@2024\"\n",
    "        self._login_attempts = 0\n",
    "        \n",
    "    def login(self):\n",
    "        if self.username == expected_name and self.__password == expected_pass:\n",
    "            print(\"Login Successful\")\n",
    "            self._login_attempts = 0\n",
    "        else:\n",
    "            print(\"Login uns\")           \n",
    "        "
   ]
  }
 ],
 "metadata": {
  "kernelspec": {
   "display_name": "Python 3",
   "language": "python",
   "name": "python3"
  },
  "language_info": {
   "codemirror_mode": {
    "name": "ipython",
    "version": 3
   },
   "file_extension": ".py",
   "mimetype": "text/x-python",
   "name": "python",
   "nbconvert_exporter": "python",
   "pygments_lexer": "ipython3",
   "version": "3.12.4"
  }
 },
 "nbformat": 4,
 "nbformat_minor": 2
}
